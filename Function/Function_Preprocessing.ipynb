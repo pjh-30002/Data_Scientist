{
 "cells": [
  {
   "cell_type": "code",
   "execution_count": 1,
   "metadata": {},
   "outputs": [],
   "source": [
    "# 기본 라이브러리\n",
    "import pandas as pd\n",
    "import numpy as np\n",
    "import seaborn as sns\n",
    "import matplotlib.pyplot as plt\n",
    "import warnings\n",
    "warnings.filterwarnings(action='ignore')\n",
    "sns.set()\n",
    "%matplotlib inline\n",
    "\n",
    "# 전처리 라이브러리\n",
    "from sklearn.model_selection import train_test_split\n",
    "from sklearn.preprocessing import StandardScaler, MinMaxScaler\n",
    "from sklearn.decomposition import PCA\n",
    "\n",
    "# 경고메세지 숨기기\n",
    "import warnings\n",
    "warnings.filterwarnings(action='ignore')"
   ]
  },
  {
   "cell_type": "code",
   "execution_count": 2,
   "metadata": {},
   "outputs": [],
   "source": [
    "# 중간에 잘리는 컬럼없이 100개까지 Print / 소수점은 5번째까지\n",
    "pd.set_option('display.max_columns', 100)\n",
    "pd.options.display.float_format = '{:.5f}'.format"
   ]
  },
  {
   "cell_type": "code",
   "execution_count": 3,
   "metadata": {},
   "outputs": [],
   "source": [
    "# 모델적용 라이브러리\n",
    "from sklearn.model_selection import KFold\n",
    "from sklearn.model_selection import cross_val_score\n",
    "from sklearn.metrics import confusion_matrix, accuracy_score, classification_report, f1_score\n",
    "\n",
    "from sklearn.linear_model import LogisticRegression\n",
    "from sklearn import model_selection\n",
    "from sklearn.neighbors import KNeighborsClassifier\n",
    "import tensorflow as tf\n",
    "import keras\n",
    "from keras.utils.np_utils import to_categorical\n",
    "from sklearn.utils import class_weight\n",
    "\n",
    "from sklearn.tree import DecisionTreeClassifier\n",
    "from sklearn.svm import SVC\n",
    "from sklearn.ensemble import RandomForestClassifier\n",
    "from sklearn.naive_bayes import GaussianNB\n",
    "from xgboost import XGBClassifier"
   ]
  },
  {
   "cell_type": "code",
   "execution_count": 1,
   "metadata": {},
   "outputs": [],
   "source": [
    "#폰트 설정\n",
    "import matplotlib.font_manager as fm\n",
    "font_list = fm.findSystemFonts(fontpaths = None, fontext = 'ttf')"
   ]
  },
  {
   "cell_type": "code",
   "execution_count": 5,
   "metadata": {},
   "outputs": [],
   "source": [
    "import platform \n",
    "\n",
    "# 운영체제별 한글 폰트 설정\n",
    "if platform.system() == 'Darwin': # Mac 환경 폰트 설정\n",
    "    plt.rc('font', family='AppleGothic')\n",
    "elif platform.system() == 'Windows': # Windows 환경 폰트 설정\n",
    "    plt.rc('font', family='Malgun Gothic')\n",
    "\n",
    "plt.rc('axes', unicode_minus=False) # 마이너스 폰트 설정\n",
    "\n",
    "\n",
    "# 글씨 선명하게 출력하는 설정\n",
    "%config InlineBackend.figure_format = 'retina'"
   ]
  },
  {
   "cell_type": "markdown",
   "metadata": {},
   "source": [
    "## Making Plot"
   ]
  },
  {
   "cell_type": "markdown",
   "metadata": {},
   "source": [
    "### 시간별 데이터값을 알아보기 위한 Plot\n",
    "- 데이터, 컬럼, 시간컬럼(명)"
   ]
  },
  {
   "cell_type": "code",
   "execution_count": 1,
   "metadata": {},
   "outputs": [],
   "source": [
    "def TimePlot(data,columns,timecolumn):\n",
    "    plt.figure(figsize=(20,10))\n",
    "    plt.title(columns)\n",
    "    plt.plot(data[timecolumn], data[columns])\n",
    "    plt.savefig(\"./plot/\"+columns+\"time.png\")\n",
    "    plt.show()"
   ]
  },
  {
   "cell_type": "markdown",
   "metadata": {},
   "source": [
    "### 분포를 비교하기 위한 Plot\n",
    "- 비교데이터1, 비교데이터2, 컬럼값"
   ]
  },
  {
   "cell_type": "code",
   "execution_count": 2,
   "metadata": {},
   "outputs": [],
   "source": [
    "def Compare_Distribution(data_1,data_2,columns):\n",
    "    plt.figure(figsize=(12,8))\n",
    "    plt.subplot(121)\n",
    "    plt.hist(data_1[columns])\n",
    "    plt.title(\"{} Value (Compare_1)\".format(columns))\n",
    "    \n",
    "    plt.subplot(122)\n",
    "    plt.hist(data_2[columns])\n",
    "    plt.title(\"{} Value (Compare_2)\".format(columns))"
   ]
  },
  {
   "cell_type": "markdown",
   "metadata": {},
   "source": [
    "### 0값을 대체하기 위한 함수\n",
    "- 데이터, 컬럼, 값(변경하고싶은 값)"
   ]
  },
  {
   "cell_type": "code",
   "execution_count": 3,
   "metadata": {},
   "outputs": [],
   "source": [
    "def change_zero(data,columns,values):\n",
    "    for n,i in enumerate(columns):\n",
    "        # 컬럼의 값이 0 이면 value[n]값으로 변경\n",
    "        data[i] = data[i].apply(lambda x: values[n] if x == 0 else x)"
   ]
  },
  {
   "cell_type": "markdown",
   "metadata": {},
   "source": [
    "### 이상치를 제거하기 위한 함수\n",
    "- 데이터, 컬럼"
   ]
  },
  {
   "cell_type": "code",
   "execution_count": 5,
   "metadata": {},
   "outputs": [],
   "source": [
    "def remove_iqr(data,column):\n",
    "    # 데이터의 25% 75%값을 q1,q3에 저장\n",
    "    q1,q3 = np.percentile(data[column],[25,75])\n",
    "    # iqr값 저장\n",
    "    iqr = q3-q1\n",
    "    # Low Boundary 저장\n",
    "    lower_bound = q1 - (iqr*1.5)\n",
    "    # High Boundary 저장\n",
    "    upper_bound = q3 + (iqr*1.5)\n",
    "    \n",
    "    # Low/High Boundary값을 제거하고 새롭게 DataFrame을 저장.\n",
    "    remove_iqr_df = data[(data[column]>=lower_bound) & (data[column]<=upper_bound)]\n",
    "    return(remove_iqr_df)"
   ]
  },
  {
   "cell_type": "markdown",
   "metadata": {},
   "source": [
    "### PCA 그래프\n",
    "- 데이터, 컬럼"
   ]
  },
  {
   "cell_type": "code",
   "execution_count": 1,
   "metadata": {},
   "outputs": [],
   "source": [
    "def PCA_graph(data,column):\n",
    "    fig = plt.figure(figsize = (8, 8))\n",
    "    ax = fig.add_subplot(1, 1, 1)\n",
    "    ax.set_xlabel('Principal Component 1', fontsize = 15)\n",
    "    ax.set_ylabel('Principal Component 2', fontsize = 15)\n",
    "    ax.set_title('2 component PCA', fontsize=20)\n",
    "\n",
    "    targets = [0,1]\n",
    "    colors = ['g', 'b']\n",
    "    for target, color in zip(targets,colors):\n",
    "        indicesToKeep = data[column] == target\n",
    "        ax.scatter(data.loc[indicesToKeep, 'Components_1']\n",
    "                   , data.loc[indicesToKeep, 'Components_2']\n",
    "                   , c = color)\n",
    "    ax.legend(targets)\n",
    "    ax.grid()"
   ]
  },
  {
   "cell_type": "markdown",
   "metadata": {},
   "source": [
    " "
   ]
  },
  {
   "cell_type": "markdown",
   "metadata": {},
   "source": [
    "## 기타 전처리"
   ]
  },
  {
   "cell_type": "code",
   "execution_count": null,
   "metadata": {},
   "outputs": [],
   "source": [
    "# 전처리 categrical data\n",
    "df['variety'] = df['variety'].map({\"Setosa\":1, \"Versicolor\":2, \"Virginica\":2})"
   ]
  }
 ],
 "metadata": {
  "kernelspec": {
   "display_name": "Python 3",
   "language": "python",
   "name": "python3"
  },
  "language_info": {
   "codemirror_mode": {
    "name": "ipython",
    "version": 3
   },
   "file_extension": ".py",
   "mimetype": "text/x-python",
   "name": "python",
   "nbconvert_exporter": "python",
   "pygments_lexer": "ipython3",
   "version": "3.8.5"
  }
 },
 "nbformat": 4,
 "nbformat_minor": 4
}
