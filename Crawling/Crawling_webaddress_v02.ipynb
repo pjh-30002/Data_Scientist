{
 "cells": [
  {
   "cell_type": "code",
   "execution_count": 2,
   "metadata": {},
   "outputs": [],
   "source": [
    "from urllib.parse import quote_plus\n",
    "from bs4 import BeautifulSoup\n",
    "from selenium import webdriver\n",
    "import pandas as pd\n",
    "import time"
   ]
  },
  {
   "cell_type": "code",
   "execution_count": 17,
   "metadata": {},
   "outputs": [
    {
     "data": {
      "text/html": [
       "<div>\n",
       "<style scoped>\n",
       "    .dataframe tbody tr th:only-of-type {\n",
       "        vertical-align: middle;\n",
       "    }\n",
       "\n",
       "    .dataframe tbody tr th {\n",
       "        vertical-align: top;\n",
       "    }\n",
       "\n",
       "    .dataframe thead th {\n",
       "        text-align: right;\n",
       "    }\n",
       "</style>\n",
       "<table border=\"1\" class=\"dataframe\">\n",
       "  <thead>\n",
       "    <tr style=\"text-align: right;\">\n",
       "      <th></th>\n",
       "      <th>기업명</th>\n",
       "      <th>기업_url</th>\n",
       "      <th>기업_번호</th>\n",
       "    </tr>\n",
       "  </thead>\n",
       "  <tbody>\n",
       "    <tr>\n",
       "      <th>0</th>\n",
       "      <td>한국기업데이터(주)</td>\n",
       "      <td>kedkorea.com</td>\n",
       "      <td>02-3215-2666</td>\n",
       "    </tr>\n",
       "    <tr>\n",
       "      <th>1</th>\n",
       "      <td>삼성SDS 상암IT센터</td>\n",
       "      <td>samsungsds.com</td>\n",
       "      <td>02-6440-7114</td>\n",
       "    </tr>\n",
       "  </tbody>\n",
       "</table>\n",
       "</div>"
      ],
      "text/plain": [
       "            기업명          기업_url         기업_번호\n",
       "0    한국기업데이터(주)    kedkorea.com  02-3215-2666\n",
       "1  삼성SDS 상암IT센터  samsungsds.com  02-6440-7114"
      ]
     },
     "execution_count": 17,
     "metadata": {},
     "output_type": "execute_result"
    }
   ],
   "source": [
    "name = ['한국기업데이터 영등포구','삼성SDS 서울특별시 마포구']\n",
    "Com_name = []\n",
    "Com_url = []\n",
    "Com_tel = []\n",
    "\n",
    "# url 지정\n",
    "url = 'https://www.google.co.kr/maps'\n",
    "driver = webdriver.Chrome(executable_path= r'C:/Chromedrive/chromedriver')\n",
    "\n",
    "driver.get(url)\n",
    "\n",
    "html = driver.page_source\n",
    "soup = BeautifulSoup(html)\n",
    "\n",
    "for i in name:\n",
    "\n",
    "    \n",
    "    elem = driver.find_element_by_xpath(\"/html/body/jsl/div[3]/div[9]/div[3]/div[1]/div[1]/div[1]/div[2]/form/div/div[3]/div/input[1]\")\n",
    "        \n",
    "    elem.send_keys(i)\n",
    "    elem.submit()\n",
    "    \n",
    "    driver.find_element_by_xpath(\"/html/body/jsl/div[3]/div[9]/div[3]/div[1]/div[1]/div[1]/div[2]/div[1]/button\").click()\n",
    "    driver.implicitly_wait(10) # 로딩되기까지 최대 10초 대기\n",
    "    try:\n",
    "        driver.find_element_by_xpath(\"/html/body/jsl/div[3]/div[9]/div[8]/div/div[1]/div/div/div[4]/div[1]/div[1]\").click()\n",
    "        driver.implicitly_wait(10) # 로딩되기까지 최대 10초 대기\n",
    "        C_name = driver.find_element_by_xpath(\"/html/body/jsl/div[3]/div[9]/div[8]/div/div[1]/div/div/div[2]/div[1]/div[1]/div[1]/h1/span[1]\").text\n",
    "        C_url = driver.find_element_by_xpath(\"/html/body/jsl/div[3]/div[9]/div[8]/div/div[1]/div/div/div[8]/div[2]/button/div[1]/div[2]/div[1]\").text\n",
    "        C_tel = driver.find_element_by_xpath(\"/html/body/jsl/div[3]/div[9]/div[8]/div/div[1]/div/div/div[8]/div[3]/button/div[1]/div[2]\").text\n",
    "        elem.clear()\n",
    "        \n",
    "        Com_name.append(C_name)\n",
    "        Com_url.append(C_url)\n",
    "        Com_tel.append(C_tel)\n",
    "    except:\n",
    "        C_name = driver.find_element_by_xpath(\"/html/body/jsl/div[3]/div[9]/div[8]/div/div[1]/div/div/div[2]/div[1]/div[1]/div[1]/h1/span[1]\").text\n",
    "        C_url = driver.find_element_by_xpath(\"/html/body/jsl/div[3]/div[9]/div[8]/div/div[1]/div/div/div[8]/div[2]/button/div[1]/div[2]/div[1]\").text\n",
    "        C_tel = driver.find_element_by_xpath(\"/html/body/jsl/div[3]/div[9]/div[8]/div/div[1]/div/div/div[8]/div[3]/button/div[1]/div[2]\").text\n",
    "        elem.clear()\n",
    "        \n",
    "        Com_name.append(C_name)\n",
    "        Com_url.append(C_url)\n",
    "        Com_tel.append(C_tel)\n",
    "    \n",
    "Com_df = pd.DataFrame()\n",
    "Com_df['기업명'] = Com_name\n",
    "Com_df['기업_url'] = Com_url\n",
    "Com_df['기업_번호'] = Com_tel\n",
    "Com_df\n"
   ]
  },
  {
   "cell_type": "code",
   "execution_count": null,
   "metadata": {},
   "outputs": [],
   "source": []
  },
  {
   "cell_type": "code",
   "execution_count": null,
   "metadata": {},
   "outputs": [],
   "source": []
  }
 ],
 "metadata": {
  "kernelspec": {
   "display_name": "Python 3",
   "language": "python",
   "name": "python3"
  },
  "language_info": {
   "codemirror_mode": {
    "name": "ipython",
    "version": 3
   },
   "file_extension": ".py",
   "mimetype": "text/x-python",
   "name": "python",
   "nbconvert_exporter": "python",
   "pygments_lexer": "ipython3",
   "version": "3.8.5"
  }
 },
 "nbformat": 4,
 "nbformat_minor": 4
}
