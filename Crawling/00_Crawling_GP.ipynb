{
 "cells": [
  {
   "cell_type": "markdown",
   "metadata": {},
   "source": [
    "### 기업 상장 크롤링"
   ]
  },
  {
   "cell_type": "code",
   "execution_count": 1,
   "metadata": {},
   "outputs": [],
   "source": [
    "from urllib.parse import quote_plus\n",
    "from bs4 import BeautifulSoup\n",
    "from selenium import webdriver\n",
    "import pandas as pd\n",
    "import time\n",
    "import sys"
   ]
  },
  {
   "cell_type": "code",
   "execution_count": 2,
   "metadata": {
    "scrolled": true
   },
   "outputs": [],
   "source": [
    "# 구글실행\n",
    "url = 'http://data.krx.co.kr/'\n",
    "\n",
    "# 본인 크롬 환경에 맞는 크롬 드라이브 설치가 필요\n",
    "## 크롬 드라이브 설치 폴더\n",
    "driver = webdriver.Chrome(executable_path= r'C:/Chromedrive/chromedriver')\n",
    "driver.get(url)\n",
    "\n",
    "html = driver.page_source\n",
    "soup = BeautifulSoup(html)\n",
    "driver.find_element_by_xpath(\"/html/body/div[2]/section[2]/div[2]/div[1]/section/section/section[2]/article[2]/a/img\").click()\n",
    "time.sleep(7)\n",
    "\n",
    "kospi_sum = driver.find_element_by_xpath(\"/html/body/div[2]/section[2]/section/section/div/div/div[1]/div/div/div[2]/table/tbody/tr[9]/td[2]\").text\n",
    "kosdak_sum = driver.find_element_by_xpath(\"/html/body/div[2]/section[2]/section/section/div/div/div[1]/div/div/div[2]/table/tbody/tr[15]/td[2]\").text\n",
    "konex_sum = driver.find_element_by_xpath(\"/html/body/div[2]/section[2]/section/section/div/div/div[1]/div/div/div[2]/table/tbody/tr[17]/td[2]\").text\n",
    "sumof_sum = driver.find_element_by_xpath(\"/html/body/div[2]/section[2]/section/section/div/div/div[1]/div/div/div[2]/table/tbody/tr[18]/td[2]\").text\n",
    "\n",
    "sys.stdout = open(r'C:/Users/KED_Internet/Desktop/Work/GP/GP'+\n",
    "         str(time.localtime()[0])+\"_\"+str(time.localtime()[1])+\"_\"+str(time.localtime()[2])+'.txt','a')\n",
    "\n",
    "print(\"유가증권시장 소계 : {}\\n코스닥증권시장 소계 : {}\\n코넥스증권시장 소계 : {}\\n\\\n",
    "증권시간 소계 : {}\".format(kospi_sum, kosdak_sum, konex_sum, sumof_sum))\n",
    "\n",
    "driver.find_element_by_xpath(\"/html/body/div[2]/section[1]/div[1]/button/img\").click()\n",
    "driver.find_element_by_xpath(\"/html/body/div[3]/div/div[2]/ul/li[2]/a\").click()\n",
    "driver.find_element_by_xpath(\"/html/body/div[3]/div/div[3]/div/div[2]/div[4]/ul/li[1]/a/span\").click()\n",
    "driver.find_element_by_xpath(\"/html/body/div[3]/div/div[3]/div/div[2]/div[4]/ul/li[1]/ul/li[1]/a/span\").click()\n"
   ]
  },
  {
   "cell_type": "code",
   "execution_count": 3,
   "metadata": {},
   "outputs": [],
   "source": [
    "# 띄워진 인테넷 창 로딩이 끝나야 아래과정 실행가능\n",
    "time.sleep(35)\n",
    "new_GP_01 = driver.find_element_by_xpath(\"/html/body/div[2]/section[2]/section/section/div/div/div[1]/div[1]/div[1]/div[2]/div/div/table/tbody/tr[1]\").text\n",
    "new_GP_01 = new_GP_01.split(\" \")[:7]\n",
    "new_GP_02 = driver.find_element_by_xpath(\"/html/body/div[2]/section[2]/section/section/div/div/div[1]/div[1]/div[1]/div[2]/div/div/table/tbody/tr[2]\").text\n",
    "new_GP_02 = new_GP_02.split(\" \")[:7]\n",
    "new_GP_03 = driver.find_element_by_xpath(\"/html/body/div[2]/section[2]/section/section/div/div/div[1]/div[1]/div[1]/div[2]/div/div/table/tbody/tr[3]\").text\n",
    "new_GP_03 = new_GP_03.split(\" \")[:7]\n",
    "new_GP_04 = driver.find_element_by_xpath(\"/html/body/div[2]/section[2]/section/section/div/div/div[1]/div[1]/div[1]/div[2]/div/div/table/tbody/tr[4]\").text\n",
    "new_GP_04 = new_GP_04.split(\" \")[:7]\n",
    "new_GP_05 = driver.find_element_by_xpath(\"/html/body/div[2]/section[2]/section/section/div/div/div[1]/div[1]/div[1]/div[2]/div/div/table/tbody/tr[5]\").text\n",
    "new_GP_05 = new_GP_05.split(\" \")[:7]\n",
    "new_GP = new_GP_01+new_GP_02+new_GP_03+new_GP_04+new_GP_05\n",
    "\n",
    "# 신규상장\n",
    "GP = pd.DataFrame()\n",
    "GP['종목명'] = new_GP[2::7]\n",
    "GP['종목코드'] = new_GP[1::7]\n",
    "GP['상장일자'] = new_GP[6::7]\n",
    "GP['시장구분'] = new_GP[3::7]\n",
    "open(r'C:/Users/KED_Internet/Desktop/Work/GP/GP'+\n",
    "         str(time.localtime()[0])+\"_\"+str(time.localtime()[1])+\"_\"+str(time.localtime()[2])+'.txt','a')\n",
    "print(\"\\n\",GP)"
   ]
  },
  {
   "cell_type": "markdown",
   "metadata": {},
   "source": [
    "### 상장폐지"
   ]
  },
  {
   "cell_type": "code",
   "execution_count": null,
   "metadata": {},
   "outputs": [],
   "source": [
    "driver.find_element_by_xpath(\"/html/body/div[2]/section[2]/aside/div[4]/ul/li[2]/ul/li[2]/div/div[1]/ul/li[15]\").click()\n",
    "\n",
    "time.sleep(1)\n",
    "driver.find_element_by_xpath(\"/html/body/div[2]/section[2]/aside/div[4]/ul/li[2]/ul/li[2]/div/div[1]/ul/li[15]/ul/li[1]/a\").click()\n",
    "\n",
    "time.sleep(5)\n",
    "BGP=[]\n",
    "List = [3,2,8,4,9]\n",
    "try:\n",
    "    # 항목 1\n",
    "    for i in range(1,11):\n",
    "        for j in List:\n",
    "            BGP_aa = driver.find_element_by_xpath(\"/html/body/div[2]/section[2]/section/section/div/div[2]/div[1]/div[1]/div[1]/div[2]/div/div/table/tbody/tr[{}]/td[{}]\".\n",
    "                                             format(i,j)).text\n",
    "            BGP.append(BGP_aa)           \n",
    "except:\n",
    "    \n",
    "    print(\"\\n상장폐지 탐색 종료\")\n",
    "\n",
    "BGP_df = pd.DataFrame(columns = ['종목명','종목코드','폐지날짜','시장구분','폐지사유'])\n",
    "BGP_df['종목명'] = BGP[0::5]\n",
    "BGP_df['종목코드'] = BGP[1::5]\n",
    "BGP_df['폐지날짜'] = BGP[2::5]\n",
    "BGP_df['시장구분'] = BGP[3::5]\n",
    "BGP_df['폐지사유'] = BGP[4::5]\n",
    "\n",
    "open(r'C:/Users/KED_Internet/Desktop/Work/GP/GP'+\n",
    "     str(time.localtime()[0])+\"_\"+str(time.localtime()[1])+\"_\"+str(time.localtime()[2])+'.txt','a')\n",
    "\n",
    "print(BGP_df)\n",
    "\n",
    "sys.stdout.close()"
   ]
  },
  {
   "cell_type": "code",
   "execution_count": null,
   "metadata": {},
   "outputs": [],
   "source": []
  }
 ],
 "metadata": {
  "kernelspec": {
   "display_name": "Python 3",
   "language": "python",
   "name": "python3"
  },
  "language_info": {
   "codemirror_mode": {
    "name": "ipython",
    "version": 3
   },
   "file_extension": ".py",
   "mimetype": "text/x-python",
   "name": "python",
   "nbconvert_exporter": "python",
   "pygments_lexer": "ipython3",
   "version": "3.8.5"
  }
 },
 "nbformat": 4,
 "nbformat_minor": 4
}
