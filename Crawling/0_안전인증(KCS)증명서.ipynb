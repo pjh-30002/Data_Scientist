{
 "cells": [
  {
   "cell_type": "code",
   "execution_count": 30,
   "metadata": {},
   "outputs": [],
   "source": [
    "import pandas as pd\n",
    "import numpy as np\n",
    "from urllib.parse import quote_plus\n",
    "from bs4 import BeautifulSoup\n",
    "from selenium import webdriver\n",
    "import pandas as pd\n",
    "import time\n",
    "from selenium.webdriver.common.keys import Keys\n",
    "pd.set_option('display.max_row', 20)\n",
    "pd.set_option('display.max_columns', 100)"
   ]
  },
  {
   "cell_type": "code",
   "execution_count": 47,
   "metadata": {},
   "outputs": [
    {
     "name": "stdout",
     "output_type": "stream",
     "text": [
      "종료\n"
     ]
    },
    {
     "ename": "AttributeError",
     "evalue": "'DataFrame' object has no attribute 'drop_dupliactes'",
     "output_type": "error",
     "traceback": [
      "\u001b[1;31m---------------------------------------------------------------------------\u001b[0m",
      "\u001b[1;31mAttributeError\u001b[0m                            Traceback (most recent call last)",
      "\u001b[1;32m<ipython-input-47-34379fc75f11>\u001b[0m in \u001b[0;36m<module>\u001b[1;34m\u001b[0m\n\u001b[0;32m     83\u001b[0m \u001b[0mdf\u001b[0m\u001b[1;33m[\u001b[0m\u001b[1;34m'대표자명'\u001b[0m\u001b[1;33m]\u001b[0m \u001b[1;33m=\u001b[0m \u001b[0mcol3\u001b[0m\u001b[1;33m\u001b[0m\u001b[1;33m\u001b[0m\u001b[0m\n\u001b[0;32m     84\u001b[0m \u001b[0mdf\u001b[0m\u001b[1;33m[\u001b[0m\u001b[1;34m'주소'\u001b[0m\u001b[1;33m]\u001b[0m \u001b[1;33m=\u001b[0m \u001b[0mcol4\u001b[0m\u001b[1;33m\u001b[0m\u001b[1;33m\u001b[0m\u001b[0m\n\u001b[1;32m---> 85\u001b[1;33m \u001b[0mdf\u001b[0m \u001b[1;33m=\u001b[0m \u001b[0mdf\u001b[0m\u001b[1;33m.\u001b[0m\u001b[0mdrop_dupliactes\u001b[0m\u001b[1;33m(\u001b[0m\u001b[1;33m[\u001b[0m\u001b[1;34m'사업장명'\u001b[0m\u001b[1;33m,\u001b[0m\u001b[1;34m'사업장관리번호'\u001b[0m\u001b[1;33m,\u001b[0m\u001b[1;34m'대표자명'\u001b[0m\u001b[1;33m,\u001b[0m\u001b[1;34m'주소'\u001b[0m\u001b[1;33m]\u001b[0m\u001b[1;33m)\u001b[0m\u001b[1;33m\u001b[0m\u001b[1;33m\u001b[0m\u001b[0m\n\u001b[0m\u001b[0;32m     86\u001b[0m df.to_excel(r\"C:/Users/KED_Internet/바탕화면/ESG/monthly_data/ESG_안전인증(KCS)_{}_{}_{}.xlsx\".\n\u001b[0;32m     87\u001b[0m             format(time.localtime()[0],time.localtime()[1],time.localtime()[2]), index=None)\n",
      "\u001b[1;32m~\\anaconda3\\lib\\site-packages\\pandas\\core\\generic.py\u001b[0m in \u001b[0;36m__getattr__\u001b[1;34m(self, name)\u001b[0m\n\u001b[0;32m   5137\u001b[0m             \u001b[1;32mif\u001b[0m \u001b[0mself\u001b[0m\u001b[1;33m.\u001b[0m\u001b[0m_info_axis\u001b[0m\u001b[1;33m.\u001b[0m\u001b[0m_can_hold_identifiers_and_holds_name\u001b[0m\u001b[1;33m(\u001b[0m\u001b[0mname\u001b[0m\u001b[1;33m)\u001b[0m\u001b[1;33m:\u001b[0m\u001b[1;33m\u001b[0m\u001b[1;33m\u001b[0m\u001b[0m\n\u001b[0;32m   5138\u001b[0m                 \u001b[1;32mreturn\u001b[0m \u001b[0mself\u001b[0m\u001b[1;33m[\u001b[0m\u001b[0mname\u001b[0m\u001b[1;33m]\u001b[0m\u001b[1;33m\u001b[0m\u001b[1;33m\u001b[0m\u001b[0m\n\u001b[1;32m-> 5139\u001b[1;33m             \u001b[1;32mreturn\u001b[0m \u001b[0mobject\u001b[0m\u001b[1;33m.\u001b[0m\u001b[0m__getattribute__\u001b[0m\u001b[1;33m(\u001b[0m\u001b[0mself\u001b[0m\u001b[1;33m,\u001b[0m \u001b[0mname\u001b[0m\u001b[1;33m)\u001b[0m\u001b[1;33m\u001b[0m\u001b[1;33m\u001b[0m\u001b[0m\n\u001b[0m\u001b[0;32m   5140\u001b[0m \u001b[1;33m\u001b[0m\u001b[0m\n\u001b[0;32m   5141\u001b[0m     \u001b[1;32mdef\u001b[0m \u001b[0m__setattr__\u001b[0m\u001b[1;33m(\u001b[0m\u001b[0mself\u001b[0m\u001b[1;33m,\u001b[0m \u001b[0mname\u001b[0m\u001b[1;33m:\u001b[0m \u001b[0mstr\u001b[0m\u001b[1;33m,\u001b[0m \u001b[0mvalue\u001b[0m\u001b[1;33m)\u001b[0m \u001b[1;33m->\u001b[0m \u001b[1;32mNone\u001b[0m\u001b[1;33m:\u001b[0m\u001b[1;33m\u001b[0m\u001b[1;33m\u001b[0m\u001b[0m\n",
      "\u001b[1;31mAttributeError\u001b[0m: 'DataFrame' object has no attribute 'drop_dupliactes'"
     ]
    }
   ],
   "source": [
    "driver = webdriver.Chrome(executable_path= r'C:/Chromedrive/chromedriver')\n",
    "# 검색어 %2020으로 검색\n",
    "driver.get(\"https://miis.kosha.or.kr/minwon/stat/listStatScBiz.do#void\")\n",
    "driver.implicitly_wait(20)\n",
    "elem = driver.find_element_by_xpath(\"/html/body/div[1]/div[3]/div[2]/div[3]/div[2]/form/ul/li[2]/input[1]\")\n",
    "elem.send_keys(\"%%\")\n",
    "elem.send_keys(Keys.ENTER)\n",
    "driver.implicitly_wait(60)\n",
    "a=[]\n",
    "try:\n",
    "    for k in range(1,200):\n",
    "        if k == 1:\n",
    "            for j in range(2,12):\n",
    "                if j == 11:\n",
    "\n",
    "                    html = driver.page_source\n",
    "                    soup = BeautifulSoup(html, \"html.parser\")\n",
    "\n",
    "                    needs = soup.find_all('td')\n",
    "\n",
    "                    for i in needs:\n",
    "                        a.append(i.text)\n",
    "\n",
    "                    driver.find_element_by_xpath(\"/html/body/div[1]/div[3]/div[2]/div[3]/div[4]/span[{}]/div/a\".format(j)).click()\n",
    "                    driver.implicitly_wait(40)\n",
    "                    time.sleep(0.5)\n",
    "                else:\n",
    "                    html = driver.page_source\n",
    "                    soup = BeautifulSoup(html, \"html.parser\")\n",
    "\n",
    "                    needs = soup.find_all('td')\n",
    "\n",
    "                    for i in needs:\n",
    "                        a.append(i.text)\n",
    "\n",
    "                    driver.find_element_by_xpath(\"/html/body/div[1]/div[3]/div[2]/div[3]/div[4]/span[{}]/a\".format(j)).click()\n",
    "                    driver.implicitly_wait(40)\n",
    "                    time.sleep(0.5)\n",
    "        else:\n",
    "            for j in range(4,14):\n",
    "                if j == 13:\n",
    "\n",
    "                    html = driver.page_source\n",
    "                    soup = BeautifulSoup(html, \"html.parser\")\n",
    "\n",
    "                    needs = soup.find_all('td')\n",
    "\n",
    "                    for i in needs:\n",
    "                        a.append(i.text)\n",
    "\n",
    "                    driver.find_element_by_xpath(\"/html/body/div[1]/div[3]/div[2]/div[3]/div[4]/span[{}]/div/a\".format(j)).click()\n",
    "                    driver.implicitly_wait(40)\n",
    "                    time.sleep(0.5)\n",
    "                else:\n",
    "                    html = driver.page_source\n",
    "                    soup = BeautifulSoup(html, \"html.parser\")\n",
    "\n",
    "                    needs = soup.find_all('td')\n",
    "\n",
    "                    for i in needs:\n",
    "                        a.append(i.text)\n",
    "\n",
    "                    driver.find_element_by_xpath(\"/html/body/div[1]/div[3]/div[2]/div[3]/div[4]/span[{}]/a\".format(j)).click()\n",
    "                    driver.implicitly_wait(40)\n",
    "                    time.sleep(0.5)\n",
    "                    \n",
    "except:\n",
    "    print(\"종료\")\n",
    "\n",
    "col1=[]\n",
    "col2=[]\n",
    "col3=[]\n",
    "col4=[]\n",
    "col1 = a[1::6]\n",
    "col2 = a[2::6]\n",
    "col3 = a[3::6]\n",
    "col4 = a[4::6]\n",
    "col = ['사업장명','사업장관리번호','대표자명','주소']\n",
    "\n",
    "df = pd.DataFrame(columns = col)\n",
    "df['사업장명'] = col1\n",
    "df['사업장관리번호'] = col2\n",
    "df['대표자명'] = col3\n",
    "df['주소'] = col4\n",
    "df = df.drop_duplicates(['사업장명','사업장관리번호','대표자명','주소'])\n",
    "df.to_excel(r\"C:/Users/KED_Internet/바탕화면/ESG/monthly_data/ESG_안전인증(KCS)_{}_{}_{}.xlsx\".\n",
    "            format(time.localtime()[0],time.localtime()[1],time.localtime()[2]), index=None)"
   ]
  }
 ],
 "metadata": {
  "kernelspec": {
   "display_name": "Python 3",
   "language": "python",
   "name": "python3"
  },
  "language_info": {
   "codemirror_mode": {
    "name": "ipython",
    "version": 3
   },
   "file_extension": ".py",
   "mimetype": "text/x-python",
   "name": "python",
   "nbconvert_exporter": "python",
   "pygments_lexer": "ipython3",
   "version": "3.8.5"
  }
 },
 "nbformat": 4,
 "nbformat_minor": 4
}
