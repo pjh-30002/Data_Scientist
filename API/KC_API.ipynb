{
 "cells": [
  {
   "cell_type": "code",
   "execution_count": 1,
   "metadata": {},
   "outputs": [],
   "source": [
    "import urllib.request \n",
    "import json \n",
    "import pandas as pd \n",
    "from pandas.io.json import json_normalize \n",
    "import requests\n",
    "from bs4 import BeautifulSoup\n",
    "import time"
   ]
  },
  {
   "cell_type": "code",
   "execution_count": 10,
   "metadata": {},
   "outputs": [],
   "source": [
    "servicekey = \" \"\n",
    "search = \"all\"\n",
    "url = \"http://safetykorea.kr/openapi/api/cert/certificationList.json?conditionKey=certDate&conditionValue=2021\"\n",
    "params = {'authkey':' '}\n",
    "\n",
    "req = requests.get(url, headers=params).json() "
   ]
  },
  {
   "cell_type": "code",
   "execution_count": 29,
   "metadata": {},
   "outputs": [],
   "source": [
    "certnum_21 = []\n",
    "certstate_21 = []\n",
    "certdate_21 = []\n",
    "certdiv_21 = []\n",
    "p_name_21 = []\n",
    "b_name_21 = []\n",
    "m_name_21 = []\n",
    "cate_name_21 = []\n",
    "maker_name_21 = []\n",
    "maker_cntry_21 = []\n",
    "impo_name_21=  []\n",
    "signdate_21 = []\n",
    "detail_21 = []"
   ]
  },
  {
   "cell_type": "code",
   "execution_count": 30,
   "metadata": {},
   "outputs": [],
   "source": [
    "# 2021\n",
    "for d_21 in req['resultData']:\n",
    "    certnum_21.append(d_21['certNum'])\n",
    "    certstate_21.append(d_21['certState'])\n",
    "    certdate_21.append(d_21['certDate'])\n",
    "    certdiv_21.append(d_21['certDiv'])\n",
    "    p_name_21.append(d_21['productName'])\n",
    "    b_name_21.append(d_21['brandName'])\n",
    "    m_name_21.append(d_21['modelName'])\n",
    "    cate_name_21.append(d_21['categoryName'])\n",
    "    maker_name_21.append(d_21['makerName'])\n",
    "    maker_cntry_21.append(d_21['makerCntryName'])\n",
    "    impo_name_21.append(d_21['importerName'])\n",
    "    signdate_21.append(d_21['signDate'])\n",
    "    detail_21.append(d_21['remark'])"
   ]
  },
  {
   "cell_type": "code",
   "execution_count": 33,
   "metadata": {},
   "outputs": [],
   "source": [
    "servicekey = \" \"\n",
    "search = \"all\"\n",
    "url = \"http://safetykorea.kr/openapi/api/cert/certificationList.json?conditionKey=certDate&conditionValue=2020\"\n",
    "params = {'authkey':' '}\n",
    "\n",
    "req = requests.get(url, headers=params).json() "
   ]
  },
  {
   "cell_type": "code",
   "execution_count": 34,
   "metadata": {},
   "outputs": [],
   "source": [
    "# 2020\n",
    "for d_21 in req['resultData']:\n",
    "    certnum_21.append(d_21['certNum'])\n",
    "    certstate_21.append(d_21['certState'])\n",
    "    certdate_21.append(d_21['certDate'])\n",
    "    certdiv_21.append(d_21['certDiv'])\n",
    "    p_name_21.append(d_21['productName'])\n",
    "    b_name_21.append(d_21['brandName'])\n",
    "    m_name_21.append(d_21['modelName'])\n",
    "    cate_name_21.append(d_21['categoryName'])\n",
    "    maker_name_21.append(d_21['makerName'])\n",
    "    maker_cntry_21.append(d_21['makerCntryName'])\n",
    "    impo_name_21.append(d_21['importerName'])\n",
    "    signdate_21.append(d_21['signDate'])\n",
    "    detail_21.append(d_21['remark'])"
   ]
  },
  {
   "cell_type": "code",
   "execution_count": 35,
   "metadata": {},
   "outputs": [
    {
     "data": {
      "text/plain": [
       "83468"
      ]
     },
     "execution_count": 35,
     "metadata": {},
     "output_type": "execute_result"
    }
   ],
   "source": [
    "len(certnum_21)"
   ]
  },
  {
   "cell_type": "code",
   "execution_count": 36,
   "metadata": {},
   "outputs": [
    {
     "name": "stdout",
     "output_type": "stream",
     "text": [
      "149751\n"
     ]
    }
   ],
   "source": [
    "servicekey = \" \"\n",
    "search = \"all\"\n",
    "url = \"http://safetykorea.kr/openapi/api/cert/certificationList.json?conditionKey=certDate&conditionValue=2019\"\n",
    "params = {'authkey':' '}\n",
    "\n",
    "req = requests.get(url, headers=params).json() \n",
    "\n",
    "# 2019\n",
    "for d_21 in req['resultData']:\n",
    "    certnum_21.append(d_21['certNum'])\n",
    "    certstate_21.append(d_21['certState'])\n",
    "    certdate_21.append(d_21['certDate'])\n",
    "    certdiv_21.append(d_21['certDiv'])\n",
    "    p_name_21.append(d_21['productName'])\n",
    "    b_name_21.append(d_21['brandName'])\n",
    "    m_name_21.append(d_21['modelName'])\n",
    "    cate_name_21.append(d_21['categoryName'])\n",
    "    maker_name_21.append(d_21['makerName'])\n",
    "    maker_cntry_21.append(d_21['makerCntryName'])\n",
    "    impo_name_21.append(d_21['importerName'])\n",
    "    signdate_21.append(d_21['signDate'])\n",
    "    detail_21.append(d_21['remark'])\n",
    "\n",
    "print(len(certnum_21))"
   ]
  },
  {
   "cell_type": "code",
   "execution_count": 37,
   "metadata": {},
   "outputs": [
    {
     "name": "stdout",
     "output_type": "stream",
     "text": [
      "208385\n"
     ]
    }
   ],
   "source": [
    "servicekey = \" \"\n",
    "search = \"all\"\n",
    "url = \"http://safetykorea.kr/openapi/api/cert/certificationList.json?conditionKey=certDate&conditionValue=2018\"\n",
    "params = {'authkey':' '}\n",
    "\n",
    "req = requests.get(url, headers=params).json() \n",
    "\n",
    "# 2018\n",
    "for d_21 in req['resultData']:\n",
    "    certnum_21.append(d_21['certNum'])\n",
    "    certstate_21.append(d_21['certState'])\n",
    "    certdate_21.append(d_21['certDate'])\n",
    "    certdiv_21.append(d_21['certDiv'])\n",
    "    p_name_21.append(d_21['productName'])\n",
    "    b_name_21.append(d_21['brandName'])\n",
    "    m_name_21.append(d_21['modelName'])\n",
    "    cate_name_21.append(d_21['categoryName'])\n",
    "    maker_name_21.append(d_21['makerName'])\n",
    "    maker_cntry_21.append(d_21['makerCntryName'])\n",
    "    impo_name_21.append(d_21['importerName'])\n",
    "    signdate_21.append(d_21['signDate'])\n",
    "    detail_21.append(d_21['remark'])\n",
    "\n",
    "print(len(certnum_21))"
   ]
  },
  {
   "cell_type": "code",
   "execution_count": 38,
   "metadata": {},
   "outputs": [
    {
     "name": "stdout",
     "output_type": "stream",
     "text": [
      "266242\n"
     ]
    }
   ],
   "source": [
    "servicekey = \" \"\n",
    "search = \"all\"\n",
    "url = \"http://safetykorea.kr/openapi/api/cert/certificationList.json?conditionKey=certDate&conditionValue=2017\"\n",
    "params = {'authkey':' '}\n",
    "\n",
    "req = requests.get(url, headers=params).json() \n",
    "\n",
    "# 2017\n",
    "for d_21 in req['resultData']:\n",
    "    certnum_21.append(d_21['certNum'])\n",
    "    certstate_21.append(d_21['certState'])\n",
    "    certdate_21.append(d_21['certDate'])\n",
    "    certdiv_21.append(d_21['certDiv'])\n",
    "    p_name_21.append(d_21['productName'])\n",
    "    b_name_21.append(d_21['brandName'])\n",
    "    m_name_21.append(d_21['modelName'])\n",
    "    cate_name_21.append(d_21['categoryName'])\n",
    "    maker_name_21.append(d_21['makerName'])\n",
    "    maker_cntry_21.append(d_21['makerCntryName'])\n",
    "    impo_name_21.append(d_21['importerName'])\n",
    "    signdate_21.append(d_21['signDate'])\n",
    "    detail_21.append(d_21['remark'])\n",
    "\n",
    "print(len(certnum_21))"
   ]
  },
  {
   "cell_type": "code",
   "execution_count": 39,
   "metadata": {},
   "outputs": [
    {
     "name": "stdout",
     "output_type": "stream",
     "text": [
      "319123\n"
     ]
    }
   ],
   "source": [
    "servicekey = \" \"\n",
    "search = \"all\"\n",
    "url = \"http://safetykorea.kr/openapi/api/cert/certificationList.json?conditionKey=certDate&conditionValue=2016\"\n",
    "params = {'authkey':' '}\n",
    "\n",
    "req = requests.get(url, headers=params).json() \n",
    "\n",
    "# 2016\n",
    "for d_21 in req['resultData']:\n",
    "    certnum_21.append(d_21['certNum'])\n",
    "    certstate_21.append(d_21['certState'])\n",
    "    certdate_21.append(d_21['certDate'])\n",
    "    certdiv_21.append(d_21['certDiv'])\n",
    "    p_name_21.append(d_21['productName'])\n",
    "    b_name_21.append(d_21['brandName'])\n",
    "    m_name_21.append(d_21['modelName'])\n",
    "    cate_name_21.append(d_21['categoryName'])\n",
    "    maker_name_21.append(d_21['makerName'])\n",
    "    maker_cntry_21.append(d_21['makerCntryName'])\n",
    "    impo_name_21.append(d_21['importerName'])\n",
    "    signdate_21.append(d_21['signDate'])\n",
    "    detail_21.append(d_21['remark'])\n",
    "\n",
    "print(len(certnum_21))"
   ]
  },
  {
   "cell_type": "code",
   "execution_count": 40,
   "metadata": {},
   "outputs": [
    {
     "name": "stdout",
     "output_type": "stream",
     "text": [
      "366481\n"
     ]
    }
   ],
   "source": [
    "servicekey = \" \"\n",
    "search = \"all\"\n",
    "url = \"http://safetykorea.kr/openapi/api/cert/certificationList.json?conditionKey=certDate&conditionValue=2015\"\n",
    "params = {'authkey':' '}\n",
    "\n",
    "req = requests.get(url, headers=params).json() \n",
    "\n",
    "# 2015\n",
    "for d_21 in req['resultData']:\n",
    "    certnum_21.append(d_21['certNum'])\n",
    "    certstate_21.append(d_21['certState'])\n",
    "    certdate_21.append(d_21['certDate'])\n",
    "    certdiv_21.append(d_21['certDiv'])\n",
    "    p_name_21.append(d_21['productName'])\n",
    "    b_name_21.append(d_21['brandName'])\n",
    "    m_name_21.append(d_21['modelName'])\n",
    "    cate_name_21.append(d_21['categoryName'])\n",
    "    maker_name_21.append(d_21['makerName'])\n",
    "    maker_cntry_21.append(d_21['makerCntryName'])\n",
    "    impo_name_21.append(d_21['importerName'])\n",
    "    signdate_21.append(d_21['signDate'])\n",
    "    detail_21.append(d_21['remark'])\n",
    "\n",
    "print(len(certnum_21))"
   ]
  },
  {
   "cell_type": "code",
   "execution_count": 41,
   "metadata": {},
   "outputs": [
    {
     "name": "stdout",
     "output_type": "stream",
     "text": [
      "410578\n"
     ]
    }
   ],
   "source": [
    "servicekey = \" \"\n",
    "search = \"all\"\n",
    "url = \"http://safetykorea.kr/openapi/api/cert/certificationList.json?conditionKey=certDate&conditionValue=2014\"\n",
    "params = {'authkey':' '}\n",
    "\n",
    "req = requests.get(url, headers=params).json() \n",
    "\n",
    "# 2014\n",
    "for d_21 in req['resultData']:\n",
    "    certnum_21.append(d_21['certNum'])\n",
    "    certstate_21.append(d_21['certState'])\n",
    "    certdate_21.append(d_21['certDate'])\n",
    "    certdiv_21.append(d_21['certDiv'])\n",
    "    p_name_21.append(d_21['productName'])\n",
    "    b_name_21.append(d_21['brandName'])\n",
    "    m_name_21.append(d_21['modelName'])\n",
    "    cate_name_21.append(d_21['categoryName'])\n",
    "    maker_name_21.append(d_21['makerName'])\n",
    "    maker_cntry_21.append(d_21['makerCntryName'])\n",
    "    impo_name_21.append(d_21['importerName'])\n",
    "    signdate_21.append(d_21['signDate'])\n",
    "    detail_21.append(d_21['remark'])\n",
    "\n",
    "print(len(certnum_21))"
   ]
  },
  {
   "cell_type": "code",
   "execution_count": 42,
   "metadata": {},
   "outputs": [
    {
     "name": "stdout",
     "output_type": "stream",
     "text": [
      "451074\n"
     ]
    }
   ],
   "source": [
    "servicekey = \" \"\n",
    "search = \"all\"\n",
    "url = \"http://safetykorea.kr/openapi/api/cert/certificationList.json?conditionKey=certDate&conditionValue=2013\"\n",
    "params = {'authkey':' '}\n",
    "\n",
    "req = requests.get(url, headers=params).json() \n",
    "\n",
    "# 2013\n",
    "for d_21 in req['resultData']:\n",
    "    certnum_21.append(d_21['certNum'])\n",
    "    certstate_21.append(d_21['certState'])\n",
    "    certdate_21.append(d_21['certDate'])\n",
    "    certdiv_21.append(d_21['certDiv'])\n",
    "    p_name_21.append(d_21['productName'])\n",
    "    b_name_21.append(d_21['brandName'])\n",
    "    m_name_21.append(d_21['modelName'])\n",
    "    cate_name_21.append(d_21['categoryName'])\n",
    "    maker_name_21.append(d_21['makerName'])\n",
    "    maker_cntry_21.append(d_21['makerCntryName'])\n",
    "    impo_name_21.append(d_21['importerName'])\n",
    "    signdate_21.append(d_21['signDate'])\n",
    "    detail_21.append(d_21['remark'])\n",
    "\n",
    "print(len(certnum_21))"
   ]
  },
  {
   "cell_type": "code",
   "execution_count": 43,
   "metadata": {},
   "outputs": [
    {
     "name": "stdout",
     "output_type": "stream",
     "text": [
      "494206\n"
     ]
    }
   ],
   "source": [
    "servicekey = \" \"\n",
    "search = \"all\"\n",
    "url = \"http://safetykorea.kr/openapi/api/cert/certificationList.json?conditionKey=certDate&conditionValue=2012\"\n",
    "params = {'authkey':' '}\n",
    "\n",
    "req = requests.get(url, headers=params).json() \n",
    "\n",
    "# 2012\n",
    "for d_21 in req['resultData']:\n",
    "    certnum_21.append(d_21['certNum'])\n",
    "    certstate_21.append(d_21['certState'])\n",
    "    certdate_21.append(d_21['certDate'])\n",
    "    certdiv_21.append(d_21['certDiv'])\n",
    "    p_name_21.append(d_21['productName'])\n",
    "    b_name_21.append(d_21['brandName'])\n",
    "    m_name_21.append(d_21['modelName'])\n",
    "    cate_name_21.append(d_21['categoryName'])\n",
    "    maker_name_21.append(d_21['makerName'])\n",
    "    maker_cntry_21.append(d_21['makerCntryName'])\n",
    "    impo_name_21.append(d_21['importerName'])\n",
    "    signdate_21.append(d_21['signDate'])\n",
    "    detail_21.append(d_21['remark'])\n",
    "\n",
    "print(len(certnum_21))"
   ]
  },
  {
   "cell_type": "code",
   "execution_count": 44,
   "metadata": {},
   "outputs": [
    {
     "name": "stdout",
     "output_type": "stream",
     "text": [
      "538325\n"
     ]
    }
   ],
   "source": [
    "servicekey = \" \"\n",
    "search = \"all\"\n",
    "url = \"http://safetykorea.kr/openapi/api/cert/certificationList.json?conditionKey=certDate&conditionValue=2011\"\n",
    "params = {'authkey':' '}\n",
    "\n",
    "req = requests.get(url, headers=params).json() \n",
    "\n",
    "# 2011\n",
    "for d_21 in req['resultData']:\n",
    "    certnum_21.append(d_21['certNum'])\n",
    "    certstate_21.append(d_21['certState'])\n",
    "    certdate_21.append(d_21['certDate'])\n",
    "    certdiv_21.append(d_21['certDiv'])\n",
    "    p_name_21.append(d_21['productName'])\n",
    "    b_name_21.append(d_21['brandName'])\n",
    "    m_name_21.append(d_21['modelName'])\n",
    "    cate_name_21.append(d_21['categoryName'])\n",
    "    maker_name_21.append(d_21['makerName'])\n",
    "    maker_cntry_21.append(d_21['makerCntryName'])\n",
    "    impo_name_21.append(d_21['importerName'])\n",
    "    signdate_21.append(d_21['signDate'])\n",
    "    detail_21.append(d_21['remark'])\n",
    "\n",
    "print(len(certnum_21))"
   ]
  },
  {
   "cell_type": "code",
   "execution_count": 45,
   "metadata": {},
   "outputs": [
    {
     "name": "stdout",
     "output_type": "stream",
     "text": [
      "579050\n"
     ]
    }
   ],
   "source": [
    "servicekey = \" \"\n",
    "search = \"all\"\n",
    "url = \"http://safetykorea.kr/openapi/api/cert/certificationList.json?conditionKey=certDate&conditionValue=2010\"\n",
    "params = {'authkey':' '}\n",
    "\n",
    "req = requests.get(url, headers=params).json() \n",
    "\n",
    "# 2010\n",
    "for d_21 in req['resultData']:\n",
    "    certnum_21.append(d_21['certNum'])\n",
    "    certstate_21.append(d_21['certState'])\n",
    "    certdate_21.append(d_21['certDate'])\n",
    "    certdiv_21.append(d_21['certDiv'])\n",
    "    p_name_21.append(d_21['productName'])\n",
    "    b_name_21.append(d_21['brandName'])\n",
    "    m_name_21.append(d_21['modelName'])\n",
    "    cate_name_21.append(d_21['categoryName'])\n",
    "    maker_name_21.append(d_21['makerName'])\n",
    "    maker_cntry_21.append(d_21['makerCntryName'])\n",
    "    impo_name_21.append(d_21['importerName'])\n",
    "    signdate_21.append(d_21['signDate'])\n",
    "    detail_21.append(d_21['remark'])\n",
    "\n",
    "print(len(certnum_21))"
   ]
  },
  {
   "cell_type": "code",
   "execution_count": 46,
   "metadata": {},
   "outputs": [
    {
     "name": "stdout",
     "output_type": "stream",
     "text": [
      "613945\n"
     ]
    }
   ],
   "source": [
    "servicekey = \" \"\n",
    "search = \"all\"\n",
    "url = \"http://safetykorea.kr/openapi/api/cert/certificationList.json?conditionKey=certDate&conditionValue=2009\"\n",
    "params = {'authkey':' '}\n",
    "\n",
    "req = requests.get(url, headers=params).json() \n",
    "\n",
    "# 2009\n",
    "for d_21 in req['resultData']:\n",
    "    certnum_21.append(d_21['certNum'])\n",
    "    certstate_21.append(d_21['certState'])\n",
    "    certdate_21.append(d_21['certDate'])\n",
    "    certdiv_21.append(d_21['certDiv'])\n",
    "    p_name_21.append(d_21['productName'])\n",
    "    b_name_21.append(d_21['brandName'])\n",
    "    m_name_21.append(d_21['modelName'])\n",
    "    cate_name_21.append(d_21['categoryName'])\n",
    "    maker_name_21.append(d_21['makerName'])\n",
    "    maker_cntry_21.append(d_21['makerCntryName'])\n",
    "    impo_name_21.append(d_21['importerName'])\n",
    "    signdate_21.append(d_21['signDate'])\n",
    "    detail_21.append(d_21['remark'])\n",
    "\n",
    "print(len(certnum_21))"
   ]
  },
  {
   "cell_type": "code",
   "execution_count": 47,
   "metadata": {},
   "outputs": [
    {
     "name": "stdout",
     "output_type": "stream",
     "text": [
      "645776\n"
     ]
    }
   ],
   "source": [
    "servicekey = \" \"\n",
    "search = \"all\"\n",
    "url = \"http://safetykorea.kr/openapi/api/cert/certificationList.json?conditionKey=certDate&conditionValue=2008\"\n",
    "params = {'authkey':' '}\n",
    "\n",
    "req = requests.get(url, headers=params).json() \n",
    "\n",
    "# 2008\n",
    "for d_21 in req['resultData']:\n",
    "    certnum_21.append(d_21['certNum'])\n",
    "    certstate_21.append(d_21['certState'])\n",
    "    certdate_21.append(d_21['certDate'])\n",
    "    certdiv_21.append(d_21['certDiv'])\n",
    "    p_name_21.append(d_21['productName'])\n",
    "    b_name_21.append(d_21['brandName'])\n",
    "    m_name_21.append(d_21['modelName'])\n",
    "    cate_name_21.append(d_21['categoryName'])\n",
    "    maker_name_21.append(d_21['makerName'])\n",
    "    maker_cntry_21.append(d_21['makerCntryName'])\n",
    "    impo_name_21.append(d_21['importerName'])\n",
    "    signdate_21.append(d_21['signDate'])\n",
    "    detail_21.append(d_21['remark'])\n",
    "\n",
    "print(len(certnum_21))"
   ]
  },
  {
   "cell_type": "code",
   "execution_count": 48,
   "metadata": {},
   "outputs": [
    {
     "name": "stdout",
     "output_type": "stream",
     "text": [
      "687308\n"
     ]
    }
   ],
   "source": [
    "servicekey = \" \"\n",
    "search = \"all\"\n",
    "url = \"http://safetykorea.kr/openapi/api/cert/certificationList.json?conditionKey=certDate&conditionValue=2007\"\n",
    "params = {'authkey':' '}\n",
    "\n",
    "req = requests.get(url, headers=params).json() \n",
    "\n",
    "# 2007\n",
    "for d_21 in req['resultData']:\n",
    "    certnum_21.append(d_21['certNum'])\n",
    "    certstate_21.append(d_21['certState'])\n",
    "    certdate_21.append(d_21['certDate'])\n",
    "    certdiv_21.append(d_21['certDiv'])\n",
    "    p_name_21.append(d_21['productName'])\n",
    "    b_name_21.append(d_21['brandName'])\n",
    "    m_name_21.append(d_21['modelName'])\n",
    "    cate_name_21.append(d_21['categoryName'])\n",
    "    maker_name_21.append(d_21['makerName'])\n",
    "    maker_cntry_21.append(d_21['makerCntryName'])\n",
    "    impo_name_21.append(d_21['importerName'])\n",
    "    signdate_21.append(d_21['signDate'])\n",
    "    detail_21.append(d_21['remark'])\n",
    "\n",
    "print(len(certnum_21))"
   ]
  },
  {
   "cell_type": "code",
   "execution_count": 49,
   "metadata": {},
   "outputs": [
    {
     "name": "stdout",
     "output_type": "stream",
     "text": [
      "707237\n"
     ]
    }
   ],
   "source": [
    "servicekey = \" \"\n",
    "search = \"all\"\n",
    "url = \"http://safetykorea.kr/openapi/api/cert/certificationList.json?conditionKey=certDate&conditionValue=2006\"\n",
    "params = {'authkey':' '}\n",
    "\n",
    "req = requests.get(url, headers=params).json() \n",
    "\n",
    "# 2006\n",
    "for d_21 in req['resultData']:\n",
    "    certnum_21.append(d_21['certNum'])\n",
    "    certstate_21.append(d_21['certState'])\n",
    "    certdate_21.append(d_21['certDate'])\n",
    "    certdiv_21.append(d_21['certDiv'])\n",
    "    p_name_21.append(d_21['productName'])\n",
    "    b_name_21.append(d_21['brandName'])\n",
    "    m_name_21.append(d_21['modelName'])\n",
    "    cate_name_21.append(d_21['categoryName'])\n",
    "    maker_name_21.append(d_21['makerName'])\n",
    "    maker_cntry_21.append(d_21['makerCntryName'])\n",
    "    impo_name_21.append(d_21['importerName'])\n",
    "    signdate_21.append(d_21['signDate'])\n",
    "    detail_21.append(d_21['remark'])\n",
    "\n",
    "print(len(certnum_21))"
   ]
  },
  {
   "cell_type": "code",
   "execution_count": 50,
   "metadata": {},
   "outputs": [
    {
     "name": "stdout",
     "output_type": "stream",
     "text": [
      "724587\n"
     ]
    }
   ],
   "source": [
    "servicekey = \" \"\n",
    "search = \"all\"\n",
    "url = \"http://safetykorea.kr/openapi/api/cert/certificationList.json?conditionKey=certDate&conditionValue=2005\"\n",
    "params = {'authkey':' '}\n",
    "\n",
    "req = requests.get(url, headers=params).json() \n",
    "\n",
    "# 2005\n",
    "for d_21 in req['resultData']:\n",
    "    certnum_21.append(d_21['certNum'])\n",
    "    certstate_21.append(d_21['certState'])\n",
    "    certdate_21.append(d_21['certDate'])\n",
    "    certdiv_21.append(d_21['certDiv'])\n",
    "    p_name_21.append(d_21['productName'])\n",
    "    b_name_21.append(d_21['brandName'])\n",
    "    m_name_21.append(d_21['modelName'])\n",
    "    cate_name_21.append(d_21['categoryName'])\n",
    "    maker_name_21.append(d_21['makerName'])\n",
    "    maker_cntry_21.append(d_21['makerCntryName'])\n",
    "    impo_name_21.append(d_21['importerName'])\n",
    "    signdate_21.append(d_21['signDate'])\n",
    "    detail_21.append(d_21['remark'])\n",
    "\n",
    "print(len(certnum_21))"
   ]
  },
  {
   "cell_type": "code",
   "execution_count": 51,
   "metadata": {},
   "outputs": [
    {
     "name": "stdout",
     "output_type": "stream",
     "text": [
      "743376\n"
     ]
    }
   ],
   "source": [
    "servicekey = \" \"\n",
    "search = \"all\"\n",
    "url = \"http://safetykorea.kr/openapi/api/cert/certificationList.json?conditionKey=certDate&conditionValue=2004\"\n",
    "params = {'authkey':' '}\n",
    "\n",
    "req = requests.get(url, headers=params).json() \n",
    "\n",
    "# 2004\n",
    "for d_21 in req['resultData']:\n",
    "    certnum_21.append(d_21['certNum'])\n",
    "    certstate_21.append(d_21['certState'])\n",
    "    certdate_21.append(d_21['certDate'])\n",
    "    certdiv_21.append(d_21['certDiv'])\n",
    "    p_name_21.append(d_21['productName'])\n",
    "    b_name_21.append(d_21['brandName'])\n",
    "    m_name_21.append(d_21['modelName'])\n",
    "    cate_name_21.append(d_21['categoryName'])\n",
    "    maker_name_21.append(d_21['makerName'])\n",
    "    maker_cntry_21.append(d_21['makerCntryName'])\n",
    "    impo_name_21.append(d_21['importerName'])\n",
    "    signdate_21.append(d_21['signDate'])\n",
    "    detail_21.append(d_21['remark'])\n",
    "\n",
    "print(len(certnum_21))"
   ]
  },
  {
   "cell_type": "code",
   "execution_count": 52,
   "metadata": {},
   "outputs": [
    {
     "name": "stdout",
     "output_type": "stream",
     "text": [
      "760253\n"
     ]
    }
   ],
   "source": [
    "servicekey = \" \"\n",
    "search = \"all\"\n",
    "url = \"http://safetykorea.kr/openapi/api/cert/certificationList.json?conditionKey=certDate&conditionValue=2003\"\n",
    "params = {'authkey':' '}\n",
    "\n",
    "req = requests.get(url, headers=params).json() \n",
    "\n",
    "# 2003\n",
    "for d_21 in req['resultData']:\n",
    "    certnum_21.append(d_21['certNum'])\n",
    "    certstate_21.append(d_21['certState'])\n",
    "    certdate_21.append(d_21['certDate'])\n",
    "    certdiv_21.append(d_21['certDiv'])\n",
    "    p_name_21.append(d_21['productName'])\n",
    "    b_name_21.append(d_21['brandName'])\n",
    "    m_name_21.append(d_21['modelName'])\n",
    "    cate_name_21.append(d_21['categoryName'])\n",
    "    maker_name_21.append(d_21['makerName'])\n",
    "    maker_cntry_21.append(d_21['makerCntryName'])\n",
    "    impo_name_21.append(d_21['importerName'])\n",
    "    signdate_21.append(d_21['signDate'])\n",
    "    detail_21.append(d_21['remark'])\n",
    "\n",
    "print(len(certnum_21))"
   ]
  },
  {
   "cell_type": "code",
   "execution_count": 53,
   "metadata": {},
   "outputs": [
    {
     "name": "stdout",
     "output_type": "stream",
     "text": [
      "773386\n"
     ]
    }
   ],
   "source": [
    "servicekey = \" \"\n",
    "search = \"all\"\n",
    "url = \"http://safetykorea.kr/openapi/api/cert/certificationList.json?conditionKey=certDate&conditionValue=2002\"\n",
    "params = {'authkey':' '}\n",
    "\n",
    "req = requests.get(url, headers=params).json() \n",
    "\n",
    "# 2002\n",
    "for d_21 in req['resultData']:\n",
    "    certnum_21.append(d_21['certNum'])\n",
    "    certstate_21.append(d_21['certState'])\n",
    "    certdate_21.append(d_21['certDate'])\n",
    "    certdiv_21.append(d_21['certDiv'])\n",
    "    p_name_21.append(d_21['productName'])\n",
    "    b_name_21.append(d_21['brandName'])\n",
    "    m_name_21.append(d_21['modelName'])\n",
    "    cate_name_21.append(d_21['categoryName'])\n",
    "    maker_name_21.append(d_21['makerName'])\n",
    "    maker_cntry_21.append(d_21['makerCntryName'])\n",
    "    impo_name_21.append(d_21['importerName'])\n",
    "    signdate_21.append(d_21['signDate'])\n",
    "    detail_21.append(d_21['remark'])\n",
    "\n",
    "print(len(certnum_21))"
   ]
  },
  {
   "cell_type": "code",
   "execution_count": 54,
   "metadata": {},
   "outputs": [
    {
     "name": "stdout",
     "output_type": "stream",
     "text": [
      "784263\n"
     ]
    }
   ],
   "source": [
    "servicekey = \" \"\n",
    "search = \"all\"\n",
    "url = \"http://safetykorea.kr/openapi/api/cert/certificationList.json?conditionKey=certDate&conditionValue=2001\"\n",
    "params = {'authkey':' '}\n",
    "\n",
    "req = requests.get(url, headers=params).json() \n",
    "\n",
    "# 2001\n",
    "for d_21 in req['resultData']:\n",
    "    certnum_21.append(d_21['certNum'])\n",
    "    certstate_21.append(d_21['certState'])\n",
    "    certdate_21.append(d_21['certDate'])\n",
    "    certdiv_21.append(d_21['certDiv'])\n",
    "    p_name_21.append(d_21['productName'])\n",
    "    b_name_21.append(d_21['brandName'])\n",
    "    m_name_21.append(d_21['modelName'])\n",
    "    cate_name_21.append(d_21['categoryName'])\n",
    "    maker_name_21.append(d_21['makerName'])\n",
    "    maker_cntry_21.append(d_21['makerCntryName'])\n",
    "    impo_name_21.append(d_21['importerName'])\n",
    "    signdate_21.append(d_21['signDate'])\n",
    "    detail_21.append(d_21['remark'])\n",
    "\n",
    "print(len(certnum_21))"
   ]
  },
  {
   "cell_type": "code",
   "execution_count": 55,
   "metadata": {},
   "outputs": [
    {
     "name": "stdout",
     "output_type": "stream",
     "text": [
      "785532\n"
     ]
    }
   ],
   "source": [
    "servicekey = \" \"\n",
    "search = \"all\"\n",
    "url = \"http://safetykorea.kr/openapi/api/cert/certificationList.json?conditionKey=certDate&conditionValue=2000\"\n",
    "params = {'authkey':' '}\n",
    "\n",
    "req = requests.get(url, headers=params).json() \n",
    "\n",
    "# 2000\n",
    "for d_21 in req['resultData']:\n",
    "    certnum_21.append(d_21['certNum'])\n",
    "    certstate_21.append(d_21['certState'])\n",
    "    certdate_21.append(d_21['certDate'])\n",
    "    certdiv_21.append(d_21['certDiv'])\n",
    "    p_name_21.append(d_21['productName'])\n",
    "    b_name_21.append(d_21['brandName'])\n",
    "    m_name_21.append(d_21['modelName'])\n",
    "    cate_name_21.append(d_21['categoryName'])\n",
    "    maker_name_21.append(d_21['makerName'])\n",
    "    maker_cntry_21.append(d_21['makerCntryName'])\n",
    "    impo_name_21.append(d_21['importerName'])\n",
    "    signdate_21.append(d_21['signDate'])\n",
    "    detail_21.append(d_21['remark'])\n",
    "\n",
    "print(len(certnum_21))"
   ]
  },
  {
   "cell_type": "code",
   "execution_count": 56,
   "metadata": {},
   "outputs": [],
   "source": [
    "df= pd.DataFrame()\n",
    "df['인증번호'] = certnum_21\n",
    "df['인증상태'] = certstate_21\n",
    "df['인증일자'] = certdate_21\n",
    "df['인증구분'] = certdiv_21\n",
    "df['제품명'] = p_name_21\n",
    "df['브랜드명'] = b_name_21\n",
    "df['모델명(로트번호)'] = m_name_21\n",
    "df['제품분류명'] = cate_name_21\n",
    "df['제조사명'] = maker_name_21\n",
    "df['제조국명'] = maker_cntry_21\n",
    "df['수입사명'] = impo_name_21\n",
    "df['등록일'] = signdate_21\n",
    "df['상세내용'] = detail_21"
   ]
  },
  {
   "cell_type": "code",
   "execution_count": 58,
   "metadata": {},
   "outputs": [],
   "source": [
    "df.to_excel(\"./KC인증.xlsx\")"
   ]
  }
 ],
 "metadata": {
  "kernelspec": {
   "display_name": "Python 3",
   "language": "python",
   "name": "python3"
  },
  "language_info": {
   "codemirror_mode": {
    "name": "ipython",
    "version": 3
   },
   "file_extension": ".py",
   "mimetype": "text/x-python",
   "name": "python",
   "nbconvert_exporter": "python",
   "pygments_lexer": "ipython3",
   "version": "3.8.5"
  }
 },
 "nbformat": 4,
 "nbformat_minor": 4
}
