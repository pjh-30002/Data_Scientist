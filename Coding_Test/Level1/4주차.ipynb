{
 "cells": [
  {
   "cell_type": "code",
   "execution_count": 1,
   "metadata": {},
   "outputs": [],
   "source": [
    "a = [\"SI JAVA JAVASCRIPT SQL PYTHON C#\", \"CONTENTS JAVASCRIPT JAVA PYTHON SQL C++\", \"HARDWARE C C++ PYTHON JAVA JAVASCRIPT\", \"PORTAL JAVA JAVASCRIPT PYTHON KOTLIN PHP\", \"GAME C++ C# JAVASCRIPT C JAVA\"]"
   ]
  },
  {
   "cell_type": "code",
   "execution_count": 24,
   "metadata": {},
   "outputs": [],
   "source": [
    "import pandas as pd\n",
    "table = pd.DataFrame()\n",
    "for i in range(len(a)):\n",
    "    table[a[i].split()[0]] = a[i].split()[1:]"
   ]
  },
  {
   "cell_type": "code",
   "execution_count": 25,
   "metadata": {},
   "outputs": [
    {
     "data": {
      "text/html": [
       "<div>\n",
       "<style scoped>\n",
       "    .dataframe tbody tr th:only-of-type {\n",
       "        vertical-align: middle;\n",
       "    }\n",
       "\n",
       "    .dataframe tbody tr th {\n",
       "        vertical-align: top;\n",
       "    }\n",
       "\n",
       "    .dataframe thead th {\n",
       "        text-align: right;\n",
       "    }\n",
       "</style>\n",
       "<table border=\"1\" class=\"dataframe\">\n",
       "  <thead>\n",
       "    <tr style=\"text-align: right;\">\n",
       "      <th></th>\n",
       "      <th>SI</th>\n",
       "      <th>CONTENTS</th>\n",
       "      <th>HARDWARE</th>\n",
       "      <th>PORTAL</th>\n",
       "      <th>GAME</th>\n",
       "    </tr>\n",
       "  </thead>\n",
       "  <tbody>\n",
       "    <tr>\n",
       "      <th>0</th>\n",
       "      <td>JAVA</td>\n",
       "      <td>JAVASCRIPT</td>\n",
       "      <td>C</td>\n",
       "      <td>JAVA</td>\n",
       "      <td>C++</td>\n",
       "    </tr>\n",
       "    <tr>\n",
       "      <th>1</th>\n",
       "      <td>JAVASCRIPT</td>\n",
       "      <td>JAVA</td>\n",
       "      <td>C++</td>\n",
       "      <td>JAVASCRIPT</td>\n",
       "      <td>C#</td>\n",
       "    </tr>\n",
       "    <tr>\n",
       "      <th>2</th>\n",
       "      <td>SQL</td>\n",
       "      <td>PYTHON</td>\n",
       "      <td>PYTHON</td>\n",
       "      <td>PYTHON</td>\n",
       "      <td>JAVASCRIPT</td>\n",
       "    </tr>\n",
       "    <tr>\n",
       "      <th>3</th>\n",
       "      <td>PYTHON</td>\n",
       "      <td>SQL</td>\n",
       "      <td>JAVA</td>\n",
       "      <td>KOTLIN</td>\n",
       "      <td>C</td>\n",
       "    </tr>\n",
       "    <tr>\n",
       "      <th>4</th>\n",
       "      <td>C#</td>\n",
       "      <td>C++</td>\n",
       "      <td>JAVASCRIPT</td>\n",
       "      <td>PHP</td>\n",
       "      <td>JAVA</td>\n",
       "    </tr>\n",
       "  </tbody>\n",
       "</table>\n",
       "</div>"
      ],
      "text/plain": [
       "           SI    CONTENTS    HARDWARE      PORTAL        GAME\n",
       "0        JAVA  JAVASCRIPT           C        JAVA         C++\n",
       "1  JAVASCRIPT        JAVA         C++  JAVASCRIPT          C#\n",
       "2         SQL      PYTHON      PYTHON      PYTHON  JAVASCRIPT\n",
       "3      PYTHON         SQL        JAVA      KOTLIN           C\n",
       "4          C#         C++  JAVASCRIPT         PHP        JAVA"
      ]
     },
     "execution_count": 25,
     "metadata": {},
     "output_type": "execute_result"
    }
   ],
   "source": [
    "table"
   ]
  },
  {
   "cell_type": "code",
   "execution_count": 26,
   "metadata": {},
   "outputs": [],
   "source": [
    "col = table.columns"
   ]
  },
  {
   "cell_type": "code",
   "execution_count": 42,
   "metadata": {},
   "outputs": [],
   "source": [
    "b = [\"PYTHON\", \"C++\", \"SQL\"]\n",
    "c = [7, 5, 5]\n",
    "d = []"
   ]
  },
  {
   "cell_type": "code",
   "execution_count": 43,
   "metadata": {},
   "outputs": [],
   "source": [
    "for n in range(len(a)):\n",
    "    e = []\n",
    "    for x in b:\n",
    "        if x in list(table[col[n]]):\n",
    "            e.append(list(table[col[n]]).index(x))\n",
    "        else:\n",
    "            e.append(0)\n",
    "    for y,n in zip(c,len(e)):\n",
    "        "
   ]
  },
  {
   "cell_type": "code",
   "execution_count": 46,
   "metadata": {},
   "outputs": [
    {
     "data": {
      "text/plain": [
       "[3, 0, 2, 2, 4, 3, 2, 1, 0, 2, 0, 0, 0, 0, 0]"
      ]
     },
     "execution_count": 46,
     "metadata": {},
     "output_type": "execute_result"
    }
   ],
   "source": [
    "d"
   ]
  },
  {
   "cell_type": "code",
   "execution_count": null,
   "metadata": {},
   "outputs": [],
   "source": []
  }
 ],
 "metadata": {
  "kernelspec": {
   "display_name": "Python 3",
   "language": "python",
   "name": "python3"
  },
  "language_info": {
   "codemirror_mode": {
    "name": "ipython",
    "version": 3
   },
   "file_extension": ".py",
   "mimetype": "text/x-python",
   "name": "python",
   "nbconvert_exporter": "python",
   "pygments_lexer": "ipython3",
   "version": "3.8.5"
  }
 },
 "nbformat": 4,
 "nbformat_minor": 4
}
