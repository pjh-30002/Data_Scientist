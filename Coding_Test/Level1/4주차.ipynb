{
 "cells": [
  {
   "cell_type": "markdown",
   "metadata": {},
   "source": [
    "https://programmers.co.kr/learn/courses/30/lessons/84325"
   ]
  },
  {
   "cell_type": "code",
   "execution_count": 110,
   "metadata": {},
   "outputs": [],
   "source": [
    "# 내 풀이\n",
    "\n",
    "def solution(a, b, c):\n",
    "    import pandas as pd\n",
    "    table = pd.DataFrame()\n",
    "    for i in range(len(a)):\n",
    "        table[a[i].split()[0]] = a[i].split()[1:]\n",
    "\n",
    "    col = table.columns\n",
    "    d = []\n",
    "    \n",
    "    for n in range(len(a)):\n",
    "        e = []\n",
    "        for x in b:\n",
    "            li = table[col[n]].tolist()\n",
    "            if str(x) in li:\n",
    "                e.append(int(li.index(x)))\n",
    "            else:\n",
    "                e.append(5)\n",
    "        d.append(e)\n",
    "    score = [5,4,3,2,1,0]\n",
    "    ans = [0,0,0,0,0]\n",
    "    for p in range(len(d)):\n",
    "        for q in range(len(b)):\n",
    "            ans[p] += score[d[p][q]]*c[q]\n",
    "    \n",
    "    if ans.count(max(ans)) >1:\n",
    "        answer = []\n",
    "        for i in range(len(ans)):\n",
    "            if ans[i] == max(ans):\n",
    "                answer.append(col[i])\n",
    "        answer = sorted(answer)\n",
    "        return answer[0]\n",
    "    else:\n",
    "        return col[ans.index(max(ans))]    "
   ]
  },
  {
   "cell_type": "code",
   "execution_count": 111,
   "metadata": {},
   "outputs": [
    {
     "data": {
      "text/plain": [
       "'PORTAL'"
      ]
     },
     "execution_count": 111,
     "metadata": {},
     "output_type": "execute_result"
    }
   ],
   "source": [
    "solution([\"SI JAVA JAVASCRIPT SQL PYTHON C#\", \"CONTENTS JAVASCRIPT JAVA PYTHON SQL C++\", \"HARDWARE C C++ PYTHON JAVA JAVASCRIPT\", \"PORTAL JAVA JAVASCRIPT PYTHON KOTLIN PHP\", \"GAME C++ C# JAVASCRIPT C JAVA\"]\n",
    "        ,[\"JAVA\", \"JAVASCRIPT\"],[7, 5])"
   ]
  },
  {
   "cell_type": "code",
   "execution_count": null,
   "metadata": {},
   "outputs": [],
   "source": [
    "# Best 풀이\n",
    "\n",
    "# 1\n",
    "def solution(table, languages, preference):\n",
    "    score = {}\n",
    "    for t in table:\n",
    "        for lang, pref in zip(languages, preference):\n",
    "            if lang in t.split():\n",
    "                score[t.split()[0]] = score.get(t.split()[0], 0) +  (6 - t.split().index(lang)) * pref\n",
    "    return sorted(score.items(), key = lambda item: [-item[1], item[0]])[0][0]\n",
    "\n",
    "# 2\n",
    "def solution(table, languages, preference):\n",
    "    answer = 'ZZZZZZZZ'\n",
    "    score_dic = {lang: score for lang, score in zip(languages, preference)}\n",
    "    max_score = 0\n",
    "    for row in table:\n",
    "        r = row.split(' ')\n",
    "        curr_score = 0\n",
    "        for i in range(1, len(r)):\n",
    "            curr_score += score_dic.get(r[i], 0) * (6-i)\n",
    "        if max_score < curr_score:\n",
    "            max_score = curr_score\n",
    "            answer = r[0]\n",
    "        elif max_score == curr_score and answer > r[0]:\n",
    "            answer = r[0]\n",
    "\n",
    "\n",
    "    return answer"
   ]
  }
 ],
 "metadata": {
  "kernelspec": {
   "display_name": "Python 3",
   "language": "python",
   "name": "python3"
  },
  "language_info": {
   "codemirror_mode": {
    "name": "ipython",
    "version": 3
   },
   "file_extension": ".py",
   "mimetype": "text/x-python",
   "name": "python",
   "nbconvert_exporter": "python",
   "pygments_lexer": "ipython3",
   "version": "3.8.5"
  }
 },
 "nbformat": 4,
 "nbformat_minor": 4
}
