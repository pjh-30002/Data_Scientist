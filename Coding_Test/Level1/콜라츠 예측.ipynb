{
 "cells": [
  {
   "cell_type": "markdown",
   "metadata": {},
   "source": [
    "https://programmers.co.kr/learn/courses/30/lessons/12943"
   ]
  },
  {
   "cell_type": "code",
   "execution_count": 15,
   "metadata": {},
   "outputs": [],
   "source": [
    "# 내 풀이\n",
    "def solution(num):\n",
    "    answer = 0\n",
    "    while answer <500:\n",
    "        if num == 1:\n",
    "            break\n",
    "        if num % 2 ==0:\n",
    "            num = num/2\n",
    "            answer +=1\n",
    "        elif num % 2 == 1:\n",
    "            num = num*3+1\n",
    "            answer +=1\n",
    "        if num == 1:\n",
    "            break\n",
    "    if answer >=500:\n",
    "        answer = -1\n",
    "    return answer"
   ]
  },
  {
   "cell_type": "code",
   "execution_count": 16,
   "metadata": {},
   "outputs": [],
   "source": [
    "# Best 풀이\n",
    "def collatz(num):\n",
    "    for i in range(500):\n",
    "        num = num / 2 if num % 2 == 0 else num*3 + 1\n",
    "        if num == 1:\n",
    "            return i + 1\n",
    "    return -1"
   ]
  },
  {
   "cell_type": "code",
   "execution_count": null,
   "metadata": {},
   "outputs": [],
   "source": []
  }
 ],
 "metadata": {
  "kernelspec": {
   "display_name": "Python 3",
   "language": "python",
   "name": "python3"
  },
  "language_info": {
   "codemirror_mode": {
    "name": "ipython",
    "version": 3
   },
   "file_extension": ".py",
   "mimetype": "text/x-python",
   "name": "python",
   "nbconvert_exporter": "python",
   "pygments_lexer": "ipython3",
   "version": "3.8.5"
  }
 },
 "nbformat": 4,
 "nbformat_minor": 4
}
