{
 "cells": [
  {
   "cell_type": "markdown",
   "metadata": {},
   "source": [
    "https://programmers.co.kr/learn/courses/30/lessons/12916"
   ]
  },
  {
   "cell_type": "code",
   "execution_count": 1,
   "metadata": {},
   "outputs": [],
   "source": [
    "# 내풀이\n",
    "def solution(val):\n",
    "    val = val.lower()\n",
    "    p = val.count('p')\n",
    "    y = val.count('y')\n",
    "    if p == y : return true\n",
    "    elif p != y : return false\n",
    "    elif (p & y) == 0 : return false\n"
   ]
  },
  {
   "cell_type": "code",
   "execution_count": null,
   "metadata": {},
   "outputs": [],
   "source": [
    "# Best 풀이\n",
    "def numPY(s):\n",
    "# 함수를 완성하세요\n",
    "return s.lower().count('p') == s.lower().count('y')\n"
   ]
  },
  {
   "cell_type": "markdown",
   "metadata": {},
   "source": [
    "배운점 : 하나의 테스트에서 시간이 좀 오래걸렸다. 이를 해결하기 위해서는 객체에 저장이 아닌 바로 사용하는 부분으로 쓸 수 있도록 해야할 수 있다. 추가로, bool 문제에서는 따로 true false를 출력해라보다 비교로 이용하는것이 연산작업이 줄어들 것이다."
   ]
  },
  {
   "cell_type": "code",
   "execution_count": null,
   "metadata": {},
   "outputs": [],
   "source": []
  }
 ],
 "metadata": {
  "kernelspec": {
   "display_name": "Python 3",
   "language": "python",
   "name": "python3"
  },
  "language_info": {
   "codemirror_mode": {
    "name": "ipython",
    "version": 3
   },
   "file_extension": ".py",
   "mimetype": "text/x-python",
   "name": "python",
   "nbconvert_exporter": "python",
   "pygments_lexer": "ipython3",
   "version": "3.8.5"
  }
 },
 "nbformat": 4,
 "nbformat_minor": 4
}
