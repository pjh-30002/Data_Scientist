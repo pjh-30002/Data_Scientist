{
 "cells": [
  {
   "cell_type": "markdown",
   "metadata": {},
   "source": [
    "# 약수의 개수와 덧셈\n",
    "https://programmers.co.kr/learn/courses/30/lessons/7788"
   ]
  },
  {
   "cell_type": "code",
   "execution_count": 1,
   "metadata": {},
   "outputs": [],
   "source": [
    "# 내 풀이\n",
    "def solution(left, right):\n",
    "    answer = 0\n",
    "    k = []\n",
    "    g = []\n",
    "    for i in range(left,right+1):\n",
    "        num = 0\n",
    "        for j in range(1,i+1):\n",
    "            if i%j == 0:\n",
    "                num+=1\n",
    "        g.append(num)\n",
    "        k.append(i)\n",
    "    for n in range(len(g)):\n",
    "        if g[n] % 2 == 0:\n",
    "            answer += k[n]\n",
    "        else:\n",
    "            answer -= k[n]\n",
    "    return answer            "
   ]
  },
  {
   "cell_type": "code",
   "execution_count": 2,
   "metadata": {},
   "outputs": [
    {
     "data": {
      "text/plain": [
       "43"
      ]
     },
     "execution_count": 2,
     "metadata": {},
     "output_type": "execute_result"
    }
   ],
   "source": [
    "solution(13,17)"
   ]
  },
  {
   "cell_type": "code",
   "execution_count": null,
   "metadata": {},
   "outputs": [],
   "source": [
    "# Best 풀이\n",
    "#1\n",
    "def solution(left, right):\n",
    "    answer = 0\n",
    "    for i in range(left,right+1):\n",
    "        if int(i**0.5)==i**0.5:\n",
    "            answer -= i\n",
    "        else:\n",
    "            answer += i\n",
    "    return answer\n",
    "\n",
    "#2\n",
    "import math\n",
    "\n",
    "def solution(left, right):\n",
    "    answer = 0\n",
    "    for i in range(left, right + 1, 1):\n",
    "        sqrt = math.sqrt(i)\n",
    "        if int(sqrt) == sqrt:\n",
    "            answer -= i\n",
    "        else:\n",
    "            answer += i\n",
    "\n",
    "    return answer\n"
   ]
  },
  {
   "cell_type": "markdown",
   "metadata": {},
   "source": [
    "#### 배운점\n",
    "- **가 루트표현식\n",
    "- 약수는 루트를 이용하면 간편함"
   ]
  }
 ],
 "metadata": {
  "kernelspec": {
   "display_name": "Python 3",
   "language": "python",
   "name": "python3"
  },
  "language_info": {
   "codemirror_mode": {
    "name": "ipython",
    "version": 3
   },
   "file_extension": ".py",
   "mimetype": "text/x-python",
   "name": "python",
   "nbconvert_exporter": "python",
   "pygments_lexer": "ipython3",
   "version": "3.8.5"
  }
 },
 "nbformat": 4,
 "nbformat_minor": 4
}
