{
 "cells": [
  {
   "cell_type": "markdown",
   "metadata": {},
   "source": [
    "# 체육복\n",
    "https://programmers.co.kr/learn/courses/30/lessons/42862"
   ]
  },
  {
   "cell_type": "code",
   "execution_count": 104,
   "metadata": {},
   "outputs": [],
   "source": [
    "# 내풀이\n",
    "\n",
    "def solution(n, lost, reserve):\n",
    "    lost = sorted(lost)\n",
    "    reserve = sorted(reserve)\n",
    "    \n",
    "    for i in range(len(lost)):\n",
    "        for k in lost:\n",
    "            if k in reserve:\n",
    "                lost.remove(k)\n",
    "                reserve.remove(k)\n",
    "    print(lost,reserve)\n",
    "    \n",
    "    \n",
    "    answer = n - len(lost)\n",
    "    for j in lost:\n",
    "        if j-1 in reserve:\n",
    "            answer +=1\n",
    "            reserve.remove(j-1)\n",
    "            continue\n",
    "        elif j+1 in reserve:\n",
    "            answer +=1\n",
    "            reserve.remove(j+1)\n",
    "    return answer"
   ]
  },
  {
   "cell_type": "code",
   "execution_count": null,
   "metadata": {},
   "outputs": [],
   "source": [
    "# best 풀이\n",
    "\n",
    "#1\n",
    "def solution(n, lost, reserve):\n",
    "    _reserve = [r for r in reserve if r not in lost]\n",
    "    _lost = [l for l in lost if l not in reserve]\n",
    "    for r in _reserve:\n",
    "        f = r - 1\n",
    "        b = r + 1\n",
    "        if f in _lost:\n",
    "            _lost.remove(f)\n",
    "        elif b in _lost:\n",
    "            _lost.remove(b)\n",
    "    return n - len(_lost)\n",
    "\n",
    "#2\n",
    "def solution(n, lost, reserve):\n",
    "    answer = 0\n",
    "    for i in range(1, n+1):\n",
    "        if i not in lost: #안 잃어버린 학생\n",
    "            answer += 1\n",
    "        else:\n",
    "            if i in reserve: #잃어버렸지만 여분도 있는 학생\n",
    "                answer += 1\n",
    "                reserve.remove(i)\n",
    "                lost.remove(i)\n",
    "\n",
    "    for i in lost: #잃어버리고 여분도 없어서 빌려야 하는 학생\n",
    "        if i-1 in reserve:\n",
    "            answer += 1\n",
    "            reserve.remove(i-1)\n",
    "\n",
    "        elif i+1 in reserve:\n",
    "            answer +=1\n",
    "            reserve.remove(i+1)\n",
    "\n",
    "    return answer"
   ]
  },
  {
   "cell_type": "markdown",
   "metadata": {},
   "source": [
    "remove를 사용할 때에는 다른 객체에 저장해주지 않아야 함\n",
    "\n",
    "remove를 사용할 때에 지워지지 않는것이 발생하는데 모든 경우의 수를 포괄할 수 있어야함\n",
    "\n",
    "저장할 경우 None값을 저장하여 원하는 바를 이루지 못함"
   ]
  },
  {
   "cell_type": "code",
   "execution_count": null,
   "metadata": {},
   "outputs": [],
   "source": []
  }
 ],
 "metadata": {
  "kernelspec": {
   "display_name": "Python 3",
   "language": "python",
   "name": "python3"
  },
  "language_info": {
   "codemirror_mode": {
    "name": "ipython",
    "version": 3
   },
   "file_extension": ".py",
   "mimetype": "text/x-python",
   "name": "python",
   "nbconvert_exporter": "python",
   "pygments_lexer": "ipython3",
   "version": "3.8.5"
  }
 },
 "nbformat": 4,
 "nbformat_minor": 4
}
