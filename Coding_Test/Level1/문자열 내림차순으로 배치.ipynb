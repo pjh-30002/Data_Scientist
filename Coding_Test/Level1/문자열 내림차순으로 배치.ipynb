{
 "cells": [
  {
   "cell_type": "markdown",
   "metadata": {},
   "source": [
    "https://programmers.co.kr/learn/courses/30/lessons/12917"
   ]
  },
  {
   "cell_type": "code",
   "execution_count": 18,
   "metadata": {},
   "outputs": [],
   "source": [
    "# 내풀이\n",
    "def solution(s):\n",
    "    return \"\".join(sorted(list(s), reverse = True))\n",
    "\n",
    "# Best 풀이\n",
    "\n",
    "#1\n",
    "def solution(s):\n",
    "    return ''.join(sorted(s, reverse=True))\n",
    "\n",
    "#2\n",
    "def solution(s):\n",
    "    s = list(s)\n",
    "    s.sort(reverse = True)\n",
    "    answer = \"\"\n",
    "    for i in s:\n",
    "        answer = answer + i\n",
    "    return answer"
   ]
  },
  {
   "cell_type": "markdown",
   "metadata": {},
   "source": [
    "배운점 : join을 이용하여 리스트를 문자열로 치환할 수 있다."
   ]
  },
  {
   "cell_type": "code",
   "execution_count": null,
   "metadata": {},
   "outputs": [],
   "source": []
  }
 ],
 "metadata": {
  "kernelspec": {
   "display_name": "Python 3",
   "language": "python",
   "name": "python3"
  },
  "language_info": {
   "codemirror_mode": {
    "name": "ipython",
    "version": 3
   },
   "file_extension": ".py",
   "mimetype": "text/x-python",
   "name": "python",
   "nbconvert_exporter": "python",
   "pygments_lexer": "ipython3",
   "version": "3.8.5"
  }
 },
 "nbformat": 4,
 "nbformat_minor": 4
}
