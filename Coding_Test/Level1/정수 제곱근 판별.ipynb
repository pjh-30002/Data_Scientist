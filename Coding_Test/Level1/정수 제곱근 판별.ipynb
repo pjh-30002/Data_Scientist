{
 "cells": [
  {
   "cell_type": "code",
   "execution_count": 9,
   "metadata": {},
   "outputs": [],
   "source": [
    "# 내 풀이\n",
    "\n",
    "import numpy as np\n",
    "def solution(n):\n",
    "    answer = 0\n",
    "    if int(np.sqrt(n))**2 == n:\n",
    "        answer += (int(np.sqrt(n))+1)**2\n",
    "    else:\n",
    "        answer += -1\n",
    "    return answer"
   ]
  },
  {
   "cell_type": "code",
   "execution_count": 10,
   "metadata": {},
   "outputs": [],
   "source": [
    "# Best 풀이\n",
    "\n",
    "# 1\n",
    "def nextSqure(n):\n",
    "    sqrt = n ** (1/2)\n",
    "\n",
    "    if sqrt % 1 == 0:\n",
    "        return (sqrt + 1) ** 2\n",
    "    return 'no'\n",
    "\n",
    "# 2\n",
    "def nextSqure(n):\n",
    "    from math import sqrt\n",
    "    return \"no\" if sqrt(n) % 1 else (sqrt(n)+1)**2"
   ]
  },
  {
   "cell_type": "markdown",
   "metadata": {},
   "source": [
    "배운점 : no를 이용하면 -1을 표현할 수 있다는 점. **(1/2)이 루트라는 점을 상기할 수 있는 시간"
   ]
  },
  {
   "cell_type": "code",
   "execution_count": null,
   "metadata": {},
   "outputs": [],
   "source": []
  }
 ],
 "metadata": {
  "kernelspec": {
   "display_name": "Python 3",
   "language": "python",
   "name": "python3"
  },
  "language_info": {
   "codemirror_mode": {
    "name": "ipython",
    "version": 3
   },
   "file_extension": ".py",
   "mimetype": "text/x-python",
   "name": "python",
   "nbconvert_exporter": "python",
   "pygments_lexer": "ipython3",
   "version": "3.8.5"
  }
 },
 "nbformat": 4,
 "nbformat_minor": 4
}
