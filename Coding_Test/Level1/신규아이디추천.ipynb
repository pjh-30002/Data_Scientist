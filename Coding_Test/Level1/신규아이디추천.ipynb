{
 "cells": [
  {
   "cell_type": "markdown",
   "metadata": {},
   "source": [
    "https://programmers.co.kr/learn/courses/30/lessons/72410"
   ]
  },
  {
   "cell_type": "code",
   "execution_count": 47,
   "metadata": {},
   "outputs": [],
   "source": [
    "def solution(new_id):\n",
    "    answer = ''\n",
    "    # 1\n",
    "    new_id = new_id.lower()\n",
    "    # 2\n",
    "    char = ['-','_','.']\n",
    "    for i in new_id:\n",
    "        if (i.isalpha() == True) or (i.isdigit() == True) or (i in char):\n",
    "            continue\n",
    "        else:\n",
    "            new_id = new_id.replace(i,'')\n",
    "    # 3\n",
    "    while '..' in new_id:\n",
    "        new_id = new_id.replace('..','.')\n",
    "    #4\n",
    "    for i in range(len(new_id)):\n",
    "        if new_id[0] != '.':\n",
    "            break\n",
    "        else:\n",
    "            new_id = new_id.lstrip('.')\n",
    "    \n",
    "    for i in range(len(new_id)):\n",
    "        if new_id[-1] != '.':\n",
    "            break\n",
    "        else:\n",
    "            new_id = new_id.rstrip('.')\n",
    "        \n",
    "    #5\n",
    "    if len(new_id) == 0:\n",
    "        new_id = 'a'\n",
    "    #6\n",
    "    if len(new_id) >= 16:\n",
    "        new_id = new_id[:15]\n",
    "    while (len(new_id) > 1) & (new_id[-1] == '.'):\n",
    "        new_id = new_id[:-1]\n",
    "    \n",
    "    #7\n",
    "    while len(new_id)<3:\n",
    "        new_id += new_id[-1]\n",
    "        \n",
    "    \n",
    "    return new_id\n"
   ]
  },
  {
   "cell_type": "code",
   "execution_count": null,
   "metadata": {},
   "outputs": [],
   "source": []
  }
 ],
 "metadata": {
  "kernelspec": {
   "display_name": "Python 3",
   "language": "python",
   "name": "python3"
  },
  "language_info": {
   "codemirror_mode": {
    "name": "ipython",
    "version": 3
   },
   "file_extension": ".py",
   "mimetype": "text/x-python",
   "name": "python",
   "nbconvert_exporter": "python",
   "pygments_lexer": "ipython3",
   "version": "3.8.5"
  }
 },
 "nbformat": 4,
 "nbformat_minor": 4
}
