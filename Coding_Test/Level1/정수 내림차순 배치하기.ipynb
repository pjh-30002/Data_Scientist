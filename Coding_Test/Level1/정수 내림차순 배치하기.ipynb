{
 "cells": [
  {
   "cell_type": "markdown",
   "metadata": {},
   "source": [
    "https://programmers.co.kr/learn/courses/30/lessons/12933"
   ]
  },
  {
   "cell_type": "code",
   "execution_count": 7,
   "metadata": {},
   "outputs": [],
   "source": [
    "# 내 풀이\n",
    "\n",
    "def solution(n):\n",
    "    answer = ''\n",
    "    n = sorted(list(str(n)),reverse=True)\n",
    "    for num in n:\n",
    "        answer += num\n",
    "    answer = int(answer)\n",
    "    return answer"
   ]
  },
  {
   "cell_type": "code",
   "execution_count": null,
   "metadata": {},
   "outputs": [],
   "source": [
    "# Best 풀이\n",
    "\n",
    "# 1\n",
    "def solution(n):\n",
    "    ls = list(str(n))\n",
    "    ls.sort(reverse = True)\n",
    "    return int(\"\".join(ls))\n",
    "\n",
    "# 2\n",
    "def solution(n):\n",
    "    return int(\"\".join(sorted(list(str(n)), reverse=True)));"
   ]
  },
  {
   "cell_type": "markdown",
   "metadata": {},
   "source": [
    "배운점 : 아직 Join의 사용법이 미숙한듯하다 Join을 이용하면 List의 문자를 str로 뽑아올 수 있다는 점을 명심하자"
   ]
  },
  {
   "cell_type": "code",
   "execution_count": null,
   "metadata": {},
   "outputs": [],
   "source": []
  }
 ],
 "metadata": {
  "kernelspec": {
   "display_name": "Python 3",
   "language": "python",
   "name": "python3"
  },
  "language_info": {
   "codemirror_mode": {
    "name": "ipython",
    "version": 3
   },
   "file_extension": ".py",
   "mimetype": "text/x-python",
   "name": "python",
   "nbconvert_exporter": "python",
   "pygments_lexer": "ipython3",
   "version": "3.8.5"
  }
 },
 "nbformat": 4,
 "nbformat_minor": 4
}
