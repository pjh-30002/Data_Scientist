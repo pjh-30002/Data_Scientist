{
 "cells": [
  {
   "cell_type": "markdown",
   "metadata": {},
   "source": [
    "https://programmers.co.kr/learn/courses/30/lessons/12950"
   ]
  },
  {
   "cell_type": "code",
   "execution_count": 19,
   "metadata": {},
   "outputs": [],
   "source": [
    "def solution(arr1, arr2):\n",
    "    answer = []\n",
    "    li = []\n",
    "    for n in range(len(arr1)):\n",
    "        for k in range(len(arr1[0])):\n",
    "            li.append(arr1[n][k] + arr2[n][k])\n",
    "        answer.append(li)\n",
    "        li = []\n",
    "    return answer"
   ]
  },
  {
   "cell_type": "code",
   "execution_count": 22,
   "metadata": {},
   "outputs": [],
   "source": [
    "# Best 풀이\n",
    "\n",
    "# 1\n",
    "def sumMatrix(A,B):\n",
    "    answer = [[c + d for c, d in zip(a, b)] for a, b in zip(A,B)]\n",
    "    return answer\n",
    "\n",
    "# 2\n",
    "def sumMatrix(A,B):\n",
    "    for i in range(len(A)) :\n",
    "        for j in range(len(A[0])):\n",
    "            A[i][j] += B[i][j] \n",
    "    return A"
   ]
  },
  {
   "cell_type": "code",
   "execution_count": null,
   "metadata": {},
   "outputs": [],
   "source": []
  }
 ],
 "metadata": {
  "kernelspec": {
   "display_name": "Python 3",
   "language": "python",
   "name": "python3"
  },
  "language_info": {
   "codemirror_mode": {
    "name": "ipython",
    "version": 3
   },
   "file_extension": ".py",
   "mimetype": "text/x-python",
   "name": "python",
   "nbconvert_exporter": "python",
   "pygments_lexer": "ipython3",
   "version": "3.8.5"
  }
 },
 "nbformat": 4,
 "nbformat_minor": 4
}
