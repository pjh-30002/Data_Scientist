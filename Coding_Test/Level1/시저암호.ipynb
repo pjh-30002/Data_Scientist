{
 "cells": [
  {
   "cell_type": "markdown",
   "metadata": {},
   "source": [
    "https://programmers.co.kr/learn/courses/30/lessons/12926"
   ]
  },
  {
   "cell_type": "code",
   "execution_count": 2,
   "metadata": {},
   "outputs": [],
   "source": [
    "# 내 풀이\n",
    "\n",
    "def solution(s,n):\n",
    "    a = ''\n",
    "    for i in s:\n",
    "        if i == ' ':\n",
    "            a += ' '\n",
    "            continue\n",
    "        if ord(i) <= 90:\n",
    "            if ord(i) + n >90:\n",
    "                a += chr(ord(i)+n-26)\n",
    "            else:\n",
    "                a += chr(ord(i)+n)\n",
    "        elif ord(i)>=97:\n",
    "            if ord(i) + n > 122:\n",
    "                a += chr(ord(i)+n-26)\n",
    "            else:\n",
    "                a += chr(ord(i)+n)\n",
    "    return a"
   ]
  },
  {
   "cell_type": "code",
   "execution_count": null,
   "metadata": {},
   "outputs": [],
   "source": [
    "# Best 풀이\n",
    "\n",
    "def caesar(s, n):\n",
    "    s = list(s)\n",
    "    for i in range(len(s)):\n",
    "        if s[i].isupper():\n",
    "            s[i]=chr((ord(s[i])-ord('A')+ n)%26+ord('A'))\n",
    "        elif s[i].islower():\n",
    "            s[i]=chr((ord(s[i])-ord('a')+ n)%26+ord('a'))\n",
    "\n",
    "    return \"\".join(s)\n",
    "    # 주어진 문장을 암호화하여 반환하세요."
   ]
  },
  {
   "cell_type": "markdown",
   "metadata": {},
   "source": [
    "배운점 : chr과 ord를 이용하여 문자를 숫자로 숫자를 문자로 변환할 수 있다는 점"
   ]
  },
  {
   "cell_type": "code",
   "execution_count": null,
   "metadata": {},
   "outputs": [],
   "source": []
  }
 ],
 "metadata": {
  "kernelspec": {
   "display_name": "Python 3",
   "language": "python",
   "name": "python3"
  },
  "language_info": {
   "codemirror_mode": {
    "name": "ipython",
    "version": 3
   },
   "file_extension": ".py",
   "mimetype": "text/x-python",
   "name": "python",
   "nbconvert_exporter": "python",
   "pygments_lexer": "ipython3",
   "version": "3.8.5"
  }
 },
 "nbformat": 4,
 "nbformat_minor": 4
}
