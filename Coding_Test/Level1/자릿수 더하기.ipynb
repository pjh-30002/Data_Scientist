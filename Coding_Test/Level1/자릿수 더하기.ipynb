{
 "cells": [
  {
   "cell_type": "markdown",
   "metadata": {},
   "source": [
    "https://programmers.co.kr/learn/courses/30/lessons/12931"
   ]
  },
  {
   "cell_type": "code",
   "execution_count": null,
   "metadata": {},
   "outputs": [],
   "source": [
    "# 내 풀이\n",
    "\n",
    "def solution(n):\n",
    "    answer = 0\n",
    "    n = str(n)\n",
    "    for i in n:\n",
    "        answer += int(i)\n",
    "    return answer"
   ]
  },
  {
   "cell_type": "code",
   "execution_count": null,
   "metadata": {},
   "outputs": [],
   "source": [
    "# Best 풀이\n",
    "\n",
    "# 1\n",
    "def sum_digit(number):\n",
    "    if number < 10:\n",
    "        return number;\n",
    "    return (number % 10) + sum_digit(number // 10) \n",
    "\n",
    "# 아래는 테스트로 출력해 보기 위한 코드입니다.\n",
    "print(\"결과 : {}\".format(sum_digit(123)));\n",
    "\n",
    "# 2\n",
    "def sum_digit(number):\n",
    "    return sum([int(i) for i in str(number)])\n",
    "# 아래는 테스트로 출력해 보기 위한 코드입니다.\n",
    "print(\"결과 : {}\".format(sum_digit(123)));"
   ]
  }
 ],
 "metadata": {
  "kernelspec": {
   "display_name": "Python 3",
   "language": "python",
   "name": "python3"
  },
  "language_info": {
   "codemirror_mode": {
    "name": "ipython",
    "version": 3
   },
   "file_extension": ".py",
   "mimetype": "text/x-python",
   "name": "python",
   "nbconvert_exporter": "python",
   "pygments_lexer": "ipython3",
   "version": "3.8.5"
  }
 },
 "nbformat": 4,
 "nbformat_minor": 4
}
