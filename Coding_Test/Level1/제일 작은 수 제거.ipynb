{
 "cells": [
  {
   "cell_type": "markdown",
   "metadata": {},
   "source": [
    "https://programmers.co.kr/learn/courses/30/lessons/12935"
   ]
  },
  {
   "cell_type": "code",
   "execution_count": null,
   "metadata": {},
   "outputs": [],
   "source": [
    "# 내 풀이\n",
    "\n",
    "def solution(arr):\n",
    "    arr.remove(min(arr))\n",
    "    \n",
    "    if len(arr) >= 1:\n",
    "        return list(arr)\n",
    "    else:\n",
    "        return [-1]"
   ]
  },
  {
   "cell_type": "code",
   "execution_count": null,
   "metadata": {},
   "outputs": [],
   "source": [
    "# best 풀이\n",
    "\n",
    "def rm_small(mylist):\n",
    "    return [i for i in mylist if i > min(mylist)]\n",
    "\n",
    "# 구버전으로 -1 구현 X\n",
    "# 아래는 테스트로 출력해 보기 위한 코드입니다.\n",
    "my_list = [4,3,2,1]\n",
    "print(\"결과 {} \".format(rm_small(my_list)))"
   ]
  }
 ],
 "metadata": {
  "kernelspec": {
   "display_name": "Python 3",
   "language": "python",
   "name": "python3"
  },
  "language_info": {
   "codemirror_mode": {
    "name": "ipython",
    "version": 3
   },
   "file_extension": ".py",
   "mimetype": "text/x-python",
   "name": "python",
   "nbconvert_exporter": "python",
   "pygments_lexer": "ipython3",
   "version": "3.8.5"
  }
 },
 "nbformat": 4,
 "nbformat_minor": 4
}
