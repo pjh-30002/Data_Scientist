{
 "cells": [
  {
   "cell_type": "markdown",
   "metadata": {},
   "source": [
    "https://programmers.co.kr/learn/courses/30/lessons/83201"
   ]
  },
  {
   "cell_type": "code",
   "execution_count": 39,
   "metadata": {},
   "outputs": [],
   "source": [
    "# 내 풀이\n",
    "import numpy as np\n",
    "def solution(scores):\n",
    "    rows = []\n",
    "    trans_matrix = []\n",
    "    nrows = len(scores)\n",
    "    ncols = len(scores[0])\n",
    "    \n",
    "    for r in range(ncols):\n",
    "        for c in range(nrows):\n",
    "            rows.append(scores[c][r])\n",
    "        trans_matrix.append(rows)\n",
    "        rows = []\n",
    "    scores = trans_matrix\n",
    "    print(scores)\n",
    "    answer = ''\n",
    "    sco = []\n",
    "    for i in range(len(scores)):\n",
    "        ma = max(scores[i])\n",
    "        mi = min(scores[i])\n",
    "        \n",
    "        if scores[i][i] == ma:\n",
    "            scores[i].remove(scores[i][i])\n",
    "            sco.append(np.mean(scores[i]))\n",
    "        elif (scores[i][i] == mi) & (scores[i].count(mi) >=2):\n",
    "            sco.append(np.mean(scores[i]))\n",
    "        elif (scores[i][i] == mi) & (scores[i].count(mi) == 1):\n",
    "            scores[i].remove(scores[i][i])\n",
    "            sco.append(np.mean(scores[i]))\n",
    "        else:\n",
    "            sco.append(np.mean(scores[i]))\n",
    "        \n",
    "        print(sco, scores[i])\n",
    "    \n",
    "    for sc in sco:\n",
    "        if sc >= 90 : answer += 'A'\n",
    "        elif (sc>=80) & (sc<90) : answer += 'B'\n",
    "        elif (sc>=70) & (sc<80) : answer += 'C'\n",
    "        elif (sc>=50) & (sc<70) : answer += 'D'\n",
    "        elif (sc<50) : answer += 'F'\n",
    "    return answer"
   ]
  },
  {
   "cell_type": "code",
   "execution_count": 40,
   "metadata": {},
   "outputs": [
    {
     "name": "stdout",
     "output_type": "stream",
     "text": [
      "[[100, 50, 47, 61, 24], [90, 45, 88, 57, 90], [98, 99, 95, 100, 94], [88, 85, 80, 80, 75], [65, 77, 67, 65, 65]]\n",
      "[45.5] [50, 47, 61, 24]\n",
      "[45.5, 81.25] [90, 88, 57, 90]\n",
      "[45.5, 81.25, 97.2] [98, 99, 95, 100, 94]\n",
      "[45.5, 81.25, 97.2, 81.6] [88, 85, 80, 80, 75]\n",
      "[45.5, 81.25, 97.2, 81.6, 67.8] [65, 77, 67, 65, 65]\n"
     ]
    },
    {
     "data": {
      "text/plain": [
       "'FBABD'"
      ]
     },
     "execution_count": 40,
     "metadata": {},
     "output_type": "execute_result"
    }
   ],
   "source": [
    "solution([[100,90,98,88,65],[50,45,99,85,77],[47,88,95,80,67],[61,57,100,80,65],[24,90,94,75,65]])"
   ]
  },
  {
   "cell_type": "markdown",
   "metadata": {},
   "source": [
    "행렬의 행과 열의 변환이 필요"
   ]
  }
 ],
 "metadata": {
  "kernelspec": {
   "display_name": "Python 3",
   "language": "python",
   "name": "python3"
  },
  "language_info": {
   "codemirror_mode": {
    "name": "ipython",
    "version": 3
   },
   "file_extension": ".py",
   "mimetype": "text/x-python",
   "name": "python",
   "nbconvert_exporter": "python",
   "pygments_lexer": "ipython3",
   "version": "3.8.5"
  }
 },
 "nbformat": 4,
 "nbformat_minor": 4
}
