{
 "cells": [
  {
   "cell_type": "markdown",
   "metadata": {},
   "source": [
    "https://programmers.co.kr/learn/courses/30/lessons/49994"
   ]
  },
  {
   "cell_type": "code",
   "execution_count": 108,
   "metadata": {},
   "outputs": [],
   "source": [
    "def solution(dirs):\n",
    "    answer = 0\n",
    "    dict = {}\n",
    "\n",
    "    s = [0,0]\n",
    "    for i in range(len(dirs)):\n",
    "        q = ''\n",
    "        q += str(s[0]) + str(s[1])\n",
    "        if ((s[0] <= 5) & (s[0] >= -5) & (s[1] <=5) & (s[1] >= -5)) & (dirs[i] == 'L'):\n",
    "            s[0] += -1\n",
    "            if s[0] < -5:\n",
    "                s[0] += 1\n",
    "                continue\n",
    "            else:\n",
    "                answer +=1\n",
    "        elif ((s[0] <= 5) & (s[0] >= -5) & (s[1] <=5) & (s[1] >= -5)) & (dirs[i] == 'R'):\n",
    "            s[0] += 1\n",
    "            if s[0] > 5:\n",
    "                s[0] += -1\n",
    "                continue\n",
    "            else:\n",
    "                answer +=1\n",
    "        elif ((s[0] <= 5) & (s[0] >= -5) & (s[1] <=5) & (s[1] >= -5)) & (dirs[i] == 'U'):\n",
    "            s[1] += 1\n",
    "            if s[1] > 5:\n",
    "                s[1] += -1\n",
    "                continue\n",
    "            else:\n",
    "                answer +=1\n",
    "        elif ((s[0] <= 5) & (s[0] >= -5) & (s[1] <=5) & (s[1] >= -5)) & (dirs[i] == 'D'):\n",
    "            s[1] += -1\n",
    "            if s[1] < -5:\n",
    "                s[1] += 1\n",
    "                continue\n",
    "            else:\n",
    "                answer +=1\n",
    "        q += [s[0],s[1]]\n",
    "        try: dict[q] += 1\n",
    "        except: dict[q] = 1\n",
    "        try: dict[q[2:] + q[:2]] +=1\n",
    "        except: dict[q[2:] + q[:2]] =1\n",
    "    keep = 0\n",
    "    for n in dict.values():\n",
    "        if n >1:\n",
    "            keep +=1\n",
    "    return answer - int(keep/2)"
   ]
  },
  {
   "cell_type": "code",
   "execution_count": 113,
   "metadata": {},
   "outputs": [],
   "source": [
    "def solution(dirs):\n",
    "    DELTA = {'U': (0, 1), 'D': (0, -1), 'R': (1, 0), 'L': (-1, 0)}\n",
    "    visited = set()\n",
    "    x, y = 0, 0   # position\n",
    "\n",
    "    for command in dirs:\n",
    "        dx, dy = DELTA[command]\n",
    "        nx, ny = x + dx, y + dy\n",
    "\n",
    "    go = (x, y, nx, ny)\n",
    "    back = (nx, ny, x, y)\n",
    "    x, y = nx, ny   # move position\n",
    "\n",
    "    if go not in visited:\n",
    "        visited.add(go)\n",
    "        visited.add(back)"
   ]
  },
  {
   "cell_type": "code",
   "execution_count": null,
   "metadata": {},
   "outputs": [],
   "source": []
  }
 ],
 "metadata": {
  "kernelspec": {
   "display_name": "Python 3",
   "language": "python",
   "name": "python3"
  },
  "language_info": {
   "codemirror_mode": {
    "name": "ipython",
    "version": 3
   },
   "file_extension": ".py",
   "mimetype": "text/x-python",
   "name": "python",
   "nbconvert_exporter": "python",
   "pygments_lexer": "ipython3",
   "version": "3.8.5"
  }
 },
 "nbformat": 4,
 "nbformat_minor": 4
}
