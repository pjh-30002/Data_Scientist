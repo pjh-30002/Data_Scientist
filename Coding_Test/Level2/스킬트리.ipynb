{
 "cells": [
  {
   "cell_type": "markdown",
   "metadata": {},
   "source": [
    "https://programmers.co.kr/learn/courses/30/lessons/49993"
   ]
  },
  {
   "cell_type": "code",
   "execution_count": 23,
   "metadata": {},
   "outputs": [],
   "source": [
    "# 내 풀이\n",
    "def solution(skill, skill_trees):\n",
    "    answer = 0\n",
    "    for i in range(len(skill_trees)):\n",
    "        k = []\n",
    "        for j in range(len(skill)):\n",
    "            if skill_trees[i].find(skill[j]) != -1:\n",
    "                k.append(skill_trees[i].find(skill[j]))\n",
    "            else:\n",
    "                k.append(27)\n",
    "        p = sorted(k)\n",
    "        if k == p:\n",
    "            answer +=1\n",
    "    return answer"
   ]
  },
  {
   "cell_type": "code",
   "execution_count": null,
   "metadata": {},
   "outputs": [],
   "source": [
    "# 베스트 풀이\n",
    "def solution(skill, skill_trees):\n",
    "    answer = 0\n",
    "\n",
    "    for skills in skill_trees:\n",
    "        skill_list = list(skill)\n",
    "\n",
    "        for s in skills:\n",
    "            if s in skill:\n",
    "                if s != skill_list.pop(0):\n",
    "                    break\n",
    "        else:\n",
    "            answer += 1\n",
    "\n",
    "    return answer\n",
    "\n",
    "def solution(skill,skill_tree):\n",
    "    answer=0\n",
    "    for i in skill_tree:\n",
    "        skillist=''\n",
    "        for z in i:\n",
    "            if z in skill:\n",
    "                skillist+=z\n",
    "        if skillist==skill[0:len(skillist)]:\n",
    "            answer+=1\n",
    "    return answer"
   ]
  },
  {
   "cell_type": "markdown",
   "metadata": {},
   "source": [
    "배운점 : 문제에서 주어진 길이값을 유심히 볼 필요가 있다. \n",
    "\n",
    "총 길이가 26이었고 find에서 못찾는값은 -1을 출력한다. 여기서 -1을 27로 바꿔주면 쉽게 문제가 해결되었다"
   ]
  },
  {
   "cell_type": "code",
   "execution_count": null,
   "metadata": {},
   "outputs": [],
   "source": []
  }
 ],
 "metadata": {
  "kernelspec": {
   "display_name": "Python 3",
   "language": "python",
   "name": "python3"
  },
  "language_info": {
   "codemirror_mode": {
    "name": "ipython",
    "version": 3
   },
   "file_extension": ".py",
   "mimetype": "text/x-python",
   "name": "python",
   "nbconvert_exporter": "python",
   "pygments_lexer": "ipython3",
   "version": "3.8.5"
  }
 },
 "nbformat": 4,
 "nbformat_minor": 4
}
