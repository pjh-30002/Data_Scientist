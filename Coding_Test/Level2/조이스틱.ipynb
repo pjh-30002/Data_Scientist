{
 "cells": [
  {
   "cell_type": "code",
   "execution_count": 1,
   "metadata": {},
   "outputs": [],
   "source": [
    "alpha1 = {'A' : 0, 'B' : 1,'C' : 2,'D' : 3,'E' : 4,'F' : 5,'G' : 6, 'H':7,'I':8,\n",
    "        'J':9, 'K' : 10, 'L':11, 'N':12, 'M' : 13, 'O':14, 'P':15, 'Q' :16, 'R':17, 'S' :18,\n",
    "        'T':19, 'U' : 20, 'V':21, 'W' : 22, 'X' :23, 'Y' : 24, 'Z' : 25}"
   ]
  },
  {
   "cell_type": "code",
   "execution_count": 29,
   "metadata": {},
   "outputs": [],
   "source": [
    "name = 'KAAKKM'\n",
    "answer= 0\n",
    "n = len(name)\n",
    "alpha = 'ABCDEFGHIJKLNMOPQRSTUVWXYZ'\n",
    "count = [0 for _ in range(n)]"
   ]
  },
  {
   "cell_type": "code",
   "execution_count": 28,
   "metadata": {},
   "outputs": [
    {
     "name": "stdout",
     "output_type": "stream",
     "text": [
      "[0, 3, 4, 5] [10, 0, 0, 10, 10, 13] 0\n",
      "[0, 3, 4, 5] [10, 0, 0, 10, 10, 13] 1\n",
      "[0, 3, 4, 5] [10, 0, 0, 10, 10, 13] 2\n",
      "[0, 3, 4, 5] [10, 0, 0, 10, 10, 13] 3\n",
      "[0, 3, 4, 5] [10, 0, 0, 10, 10, 13] 4\n",
      "[0, 3, 4, 5] [10, 0, 0, 10, 10, 13] 5\n"
     ]
    }
   ],
   "source": [
    "for idx,al in enumerate(name):\n",
    "    if alpha.find(al) > len(alpha) - alpha.find(al):\n",
    "        count[idx] = len(alpha) - alpha.find(al)\n",
    "    else:\n",
    "        count[idx] = alpha.find(al)\n",
    "        \n",
    "    n_count = [idx for idx, v in enumerate(count) if v != 0]\n",
    "    \n",
    "    if len(n_count) == len(name):\n",
    "        answer += len(name) - 1\n",
    "        \n",
    "    else:\n",
    "        index = 0\n",
    "        while len(n_count):\n",
    "        \n",
    "        "
   ]
  },
  {
   "cell_type": "code",
   "execution_count": 5,
   "metadata": {},
   "outputs": [
    {
     "data": {
      "text/plain": [
       "60"
      ]
     },
     "execution_count": 5,
     "metadata": {},
     "output_type": "execute_result"
    }
   ],
   "source": [
    "ans"
   ]
  },
  {
   "cell_type": "code",
   "execution_count": null,
   "metadata": {},
   "outputs": [],
   "source": [
    "JANNAK"
   ]
  }
 ],
 "metadata": {
  "kernelspec": {
   "display_name": "Python 3",
   "language": "python",
   "name": "python3"
  },
  "language_info": {
   "codemirror_mode": {
    "name": "ipython",
    "version": 3
   },
   "file_extension": ".py",
   "mimetype": "text/x-python",
   "name": "python",
   "nbconvert_exporter": "python",
   "pygments_lexer": "ipython3",
   "version": "3.8.5"
  }
 },
 "nbformat": 4,
 "nbformat_minor": 4
}
