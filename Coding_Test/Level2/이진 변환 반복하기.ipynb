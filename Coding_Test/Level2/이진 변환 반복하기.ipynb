{
 "cells": [
  {
   "cell_type": "markdown",
   "metadata": {},
   "source": [
    "https://programmers.co.kr/learn/courses/30/lessons/70129"
   ]
  },
  {
   "cell_type": "code",
   "execution_count": 5,
   "metadata": {},
   "outputs": [],
   "source": [
    "# 내풀이\n",
    "\n",
    "def solution(s):\n",
    "    def two(n):\n",
    "        m = ''\n",
    "        while n>=1 :\n",
    "            if n != 1:\n",
    "                m += str(n % 2)\n",
    "                n = n // 2\n",
    "            else:\n",
    "                m += str(1)\n",
    "                break\n",
    "        return m[::-1]\n",
    "    answer = [0,0]\n",
    "    a = 0\n",
    "    b = 0\n",
    "    while True:\n",
    "        if s != '1':\n",
    "            b += s.count('0')\n",
    "            s = s.replace('0', '')\n",
    "            ls = len(s)\n",
    "            s = two(ls)\n",
    "            a += 1\n",
    "        else:\n",
    "            break\n",
    "    answer[0] = a\n",
    "    answer[1] = b\n",
    "    return answer"
   ]
  },
  {
   "cell_type": "code",
   "execution_count": 6,
   "metadata": {},
   "outputs": [
    {
     "data": {
      "text/plain": [
       "[3, 8]"
      ]
     },
     "execution_count": 6,
     "metadata": {},
     "output_type": "execute_result"
    }
   ],
   "source": [
    "# 베스트 풀이\n",
    "def solution(s):\n",
    "    a, b = 0, 0\n",
    "    while s != '1':\n",
    "        a += 1\n",
    "        num = s.count('1')\n",
    "        b += len(s) - num\n",
    "        s = bin(num)[2:]\n",
    "    return [a, b]"
   ]
  },
  {
   "cell_type": "code",
   "execution_count": null,
   "metadata": {},
   "outputs": [],
   "source": []
  }
 ],
 "metadata": {
  "kernelspec": {
   "display_name": "Python 3",
   "language": "python",
   "name": "python3"
  },
  "language_info": {
   "codemirror_mode": {
    "name": "ipython",
    "version": 3
   },
   "file_extension": ".py",
   "mimetype": "text/x-python",
   "name": "python",
   "nbconvert_exporter": "python",
   "pygments_lexer": "ipython3",
   "version": "3.8.5"
  }
 },
 "nbformat": 4,
 "nbformat_minor": 4
}
