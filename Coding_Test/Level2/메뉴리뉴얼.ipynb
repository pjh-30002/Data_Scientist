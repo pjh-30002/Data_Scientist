{
 "cells": [
  {
   "cell_type": "markdown",
   "metadata": {},
   "source": [
    "https://programmers.co.kr/learn/courses/30/lessons/72411"
   ]
  },
  {
   "cell_type": "code",
   "execution_count": 160,
   "metadata": {},
   "outputs": [],
   "source": [
    "from itertools import combinations\n",
    "\n",
    "def solution(orders, course):\n",
    "    ans_d = []\n",
    "    \n",
    "    for j in range(len(course)):\n",
    "        ans = []\n",
    "        for i in range(len(orders)):\n",
    "            for k in combinations(orders[i], course[j]):\n",
    "                ans.append(''.join(sorted(list(k))))\n",
    "        print(sorted(ans))\n",
    "        count = {}\n",
    "        for i in ans:\n",
    "            try : count[i] +=1\n",
    "            except: count[i] = 1\n",
    "        for m in [k for k,v in count.items() if (max(count.values()) == v) & (max(count.values()) >=2)]:\n",
    "            ans_d.append(m)\n",
    "    return sorted(ans_d)\n"
   ]
  },
  {
   "cell_type": "markdown",
   "metadata": {},
   "source": [
    "배운점 : 딕셔너리와 리스트의 자유로운 변환과정 및 join 연산"
   ]
  },
  {
   "cell_type": "code",
   "execution_count": null,
   "metadata": {},
   "outputs": [],
   "source": []
  }
 ],
 "metadata": {
  "kernelspec": {
   "display_name": "Python 3",
   "language": "python",
   "name": "python3"
  },
  "language_info": {
   "codemirror_mode": {
    "name": "ipython",
    "version": 3
   },
   "file_extension": ".py",
   "mimetype": "text/x-python",
   "name": "python",
   "nbconvert_exporter": "python",
   "pygments_lexer": "ipython3",
   "version": "3.8.5"
  }
 },
 "nbformat": 4,
 "nbformat_minor": 4
}
