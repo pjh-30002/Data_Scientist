{
 "cells": [
  {
   "cell_type": "code",
   "execution_count": 61,
   "metadata": {},
   "outputs": [
    {
     "data": {
      "text/plain": [
       "16"
      ]
     },
     "execution_count": 61,
     "metadata": {},
     "output_type": "execute_result"
    }
   ],
   "source": [
    "def solution(land):\n",
    "    answer = 0\n",
    "    n = len(land)\n",
    "\n",
    "    for i in range(1, n):\n",
    "        land[i][0] += max(land[i-1][1], land[i-1][2], land[i-1][3])\n",
    "        land[i][1] += max(land[i-1][0], land[i-1][2], land[i-1][3])\n",
    "        land[i][2] += max(land[i-1][0], land[i-1][1], land[i-1][3])\n",
    "        land[i][3] += max(land[i-1][0], land[i-1][1], land[i-1][2])\n",
    "\n",
    "\n",
    "    answer = max(land[n-1])\n",
    "\n",
    "    return answer\n",
    "solution([[1,2,3,5],[5,6,7,8],[4,3,2,1]])"
   ]
  },
  {
   "cell_type": "code",
   "execution_count": null,
   "metadata": {},
   "outputs": [],
   "source": [
    "def solution(land):\n",
    "\n",
    "    for i in range(1, len(land)):\n",
    "        for j in range(len(land[0])):\n",
    "            land[i][j] = max(land[i -1][: j] + land[i - 1][j + 1:]) + land[i][j]\n",
    "\n",
    "    return max(land[-1])"
   ]
  },
  {
   "cell_type": "markdown",
   "metadata": {},
   "source": [
    "배운점 : dp 문제로 해결할 경우 수월해게 해결이 가능"
   ]
  }
 ],
 "metadata": {
  "kernelspec": {
   "display_name": "Python 3",
   "language": "python",
   "name": "python3"
  },
  "language_info": {
   "codemirror_mode": {
    "name": "ipython",
    "version": 3
   },
   "file_extension": ".py",
   "mimetype": "text/x-python",
   "name": "python",
   "nbconvert_exporter": "python",
   "pygments_lexer": "ipython3",
   "version": "3.8.5"
  }
 },
 "nbformat": 4,
 "nbformat_minor": 4
}
