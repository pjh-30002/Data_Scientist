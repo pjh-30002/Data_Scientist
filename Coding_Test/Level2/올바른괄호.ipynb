{
 "cells": [
  {
   "cell_type": "markdown",
   "metadata": {},
   "source": [
    "https://programmers.co.kr/learn/courses/30/lessons/12909"
   ]
  },
  {
   "cell_type": "code",
   "execution_count": 5,
   "metadata": {},
   "outputs": [],
   "source": [
    "def solution(s):\n",
    "    s = s.replace('()', '')\n",
    "    try:\n",
    "        if s.count('(') != s.count(')'):\n",
    "            return False\n",
    "        elif s[0] == ')':\n",
    "            return False\n",
    "        elif s[-1] == '(':\n",
    "            return False\n",
    "        else:\n",
    "            return True\n",
    "    except:\n",
    "        return True"
   ]
  },
  {
   "cell_type": "code",
   "execution_count": null,
   "metadata": {},
   "outputs": [],
   "source": [
    "def is_pair(s):\n",
    "    # 함수를 완성하세요\n",
    "    x = 0\n",
    "    for w in s:\n",
    "        if x < 0:\n",
    "            break\n",
    "        x = x+1 if w==\"(\" else x-1 if w==\")\" else x\n",
    "    return x==0\n",
    "\n",
    "\n",
    "# 아래는 테스트로 출력해 보기 위한 코드입니다.\n",
    "print( is_pair(\"(hello)()\"))\n",
    "print( is_pair(\")(\"))"
   ]
  }
 ],
 "metadata": {
  "kernelspec": {
   "display_name": "Python 3",
   "language": "python",
   "name": "python3"
  },
  "language_info": {
   "codemirror_mode": {
    "name": "ipython",
    "version": 3
   },
   "file_extension": ".py",
   "mimetype": "text/x-python",
   "name": "python",
   "nbconvert_exporter": "python",
   "pygments_lexer": "ipython3",
   "version": "3.8.5"
  }
 },
 "nbformat": 4,
 "nbformat_minor": 4
}
