{
 "cells": [
  {
   "cell_type": "markdown",
   "metadata": {},
   "source": [
    "https://programmers.co.kr/learn/courses/30/lessons/12911"
   ]
  },
  {
   "cell_type": "code",
   "execution_count": 26,
   "metadata": {},
   "outputs": [],
   "source": [
    "# 내풀이\n",
    "def solution(num):\n",
    "    def make(n):\n",
    "        k = ''\n",
    "        while n>1:\n",
    "            k += str(n % 2)\n",
    "            n = n//2\n",
    "            if n ==1 :\n",
    "                k += str(1)\n",
    "                break\n",
    "        return k[::-1]\n",
    "    a = make(num).count(str(1))\n",
    "    while True:\n",
    "        num += 1\n",
    "        b = make(num).count(str(1))\n",
    "        if a == b:\n",
    "            break\n",
    "    return num"
   ]
  },
  {
   "cell_type": "code",
   "execution_count": null,
   "metadata": {},
   "outputs": [],
   "source": [
    "# 베스트 풀이\n",
    "def nextBigNumber(n):\n",
    "    num1 = bin(n).count('1')\n",
    "    while True:\n",
    "        n = n + 1\n",
    "        if num1 == bin(n).count('1'):\n",
    "            break\n",
    "    return n\n",
    "\n",
    "#아래 코드는 테스트를 위한 출력 코드입니다.\n",
    "print(nextBigNumber(78))"
   ]
  },
  {
   "cell_type": "markdown",
   "metadata": {},
   "source": [
    "배운점 : bin이라는 내장함수를통해 바로 이진수를 표현할 수 있음"
   ]
  }
 ],
 "metadata": {
  "kernelspec": {
   "display_name": "Python 3",
   "language": "python",
   "name": "python3"
  },
  "language_info": {
   "codemirror_mode": {
    "name": "ipython",
    "version": 3
   },
   "file_extension": ".py",
   "mimetype": "text/x-python",
   "name": "python",
   "nbconvert_exporter": "python",
   "pygments_lexer": "ipython3",
   "version": "3.8.5"
  }
 },
 "nbformat": 4,
 "nbformat_minor": 4
}
