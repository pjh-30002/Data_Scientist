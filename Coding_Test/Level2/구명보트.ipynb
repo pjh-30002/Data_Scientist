{
 "cells": [
  {
   "cell_type": "markdown",
   "metadata": {},
   "source": [
    "https://programmers.co.kr/learn/courses/30/lessons/42885"
   ]
  },
  {
   "cell_type": "code",
   "execution_count": 36,
   "metadata": {},
   "outputs": [
    {
     "data": {
      "text/plain": [
       "3"
      ]
     },
     "execution_count": 36,
     "metadata": {},
     "output_type": "execute_result"
    }
   ],
   "source": [
    "def solution(people, limit):\n",
    "    answer = 0\n",
    "    people.sort()\n",
    "    a = 0\n",
    "    b = len(people) - 1\n",
    "    while a<b:\n",
    "        if people[a] + people[b] <=limit:\n",
    "            a += 1\n",
    "            b -= 1\n",
    "        else:\n",
    "            b -= 1\n",
    "        answer +=1\n",
    "        \n",
    "        if a == b:\n",
    "            answer+= 1\n",
    "    return answer\n",
    "solution([70, 80, 50],100)"
   ]
  },
  {
   "cell_type": "code",
   "execution_count": null,
   "metadata": {},
   "outputs": [],
   "source": [
    "# 베스트풀이\n",
    "# 1\n",
    "def solution(people, limit) :\n",
    "    answer = 0\n",
    "    people.sort()\n",
    "\n",
    "    a = 0\n",
    "    b = len(people) - 1\n",
    "    while a < b :\n",
    "        if people[b] + people[a] <= limit :\n",
    "            a += 1\n",
    "            answer += 1\n",
    "        b -= 1\n",
    "    return len(people) - answer\n",
    "\n",
    "#2\n",
    "\n",
    "from collections import deque\n",
    "def solution(people, limit):\n",
    "    result = 0\n",
    "    deque_people = deque(sorted(people))\n",
    "\n",
    "    while deque_people:\n",
    "        left = deque_people.popleft()\n",
    "        if not deque_people:\n",
    "            return result + 1\n",
    "        right = deque_people.pop()\n",
    "        if left + right > limit:\n",
    "            deque_people.appendleft(left)\n",
    "        result += 1\n",
    "    return result"
   ]
  },
  {
   "cell_type": "code",
   "execution_count": null,
   "metadata": {},
   "outputs": [],
   "source": []
  }
 ],
 "metadata": {
  "kernelspec": {
   "display_name": "Python 3",
   "language": "python",
   "name": "python3"
  },
  "language_info": {
   "codemirror_mode": {
    "name": "ipython",
    "version": 3
   },
   "file_extension": ".py",
   "mimetype": "text/x-python",
   "name": "python",
   "nbconvert_exporter": "python",
   "pygments_lexer": "ipython3",
   "version": "3.8.5"
  }
 },
 "nbformat": 4,
 "nbformat_minor": 4
}
