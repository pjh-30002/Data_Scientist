{
 "cells": [
  {
   "cell_type": "markdown",
   "metadata": {},
   "source": [
    "https://programmers.co.kr/learn/courses/30/lessons/12899"
   ]
  },
  {
   "cell_type": "code",
   "execution_count": 46,
   "metadata": {},
   "outputs": [],
   "source": [
    "def solution(n):\n",
    "    answer = ''\n",
    "    k = [4,1,2]\n",
    "    q = [0,1,2,4]\n",
    "    while n>0:\n",
    "        if (n%3) == 0:\n",
    "            answer += str(k[int(n%3)])\n",
    "            n = n//3 -1\n",
    "        else:\n",
    "            answer += str(k[int(n%3)])\n",
    "            n = n//3\n",
    "    answer = answer[::-1]\n",
    "    \n",
    "    return answer"
   ]
  },
  {
   "cell_type": "markdown",
   "metadata": {},
   "source": [
    "배운점 : 삼진법에 마지막 숫자가 하나 변경된것이 애를 많이 먹임, 몫에서 1을 빼면 해결이 된다는 점이 이 문제에 키였다고 생각함"
   ]
  },
  {
   "cell_type": "code",
   "execution_count": null,
   "metadata": {},
   "outputs": [],
   "source": []
  }
 ],
 "metadata": {
  "kernelspec": {
   "display_name": "Python 3",
   "language": "python",
   "name": "python3"
  },
  "language_info": {
   "codemirror_mode": {
    "name": "ipython",
    "version": 3
   },
   "file_extension": ".py",
   "mimetype": "text/x-python",
   "name": "python",
   "nbconvert_exporter": "python",
   "pygments_lexer": "ipython3",
   "version": "3.8.5"
  }
 },
 "nbformat": 4,
 "nbformat_minor": 4
}
