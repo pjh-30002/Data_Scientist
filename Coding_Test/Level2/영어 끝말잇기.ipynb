{
 "cells": [
  {
   "cell_type": "markdown",
   "metadata": {},
   "source": [
    "https://programmers.co.kr/learn/courses/30/lessons/12981"
   ]
  },
  {
   "cell_type": "code",
   "execution_count": 7,
   "metadata": {},
   "outputs": [],
   "source": [
    "import numpy as np\n",
    "def solution(n, words):\n",
    "    k = 0\n",
    "    wo = [words[0]]\n",
    "\n",
    "    for i in range(1,len(words)):\n",
    "        if words[i-1][-1] != words[i][0]:\n",
    "            k = i+1\n",
    "            break\n",
    "        elif words[i] in wo:\n",
    "            k = i+1\n",
    "            break\n",
    "        else:\n",
    "            wo.append(words[i])\n",
    "    print(wo,k)\n",
    "    a = 0\n",
    "    b = 0\n",
    "    if k != 0:\n",
    "        if k % n == 0:\n",
    "            a = n\n",
    "        else:\n",
    "            a = k%n\n",
    "        b = int(np.ceil(k/n))\n",
    "        return [a,b]\n",
    "    else:\n",
    "        return [a,b]"
   ]
  },
  {
   "cell_type": "code",
   "execution_count": 5,
   "metadata": {},
   "outputs": [
    {
     "data": {
      "text/plain": [
       "1"
      ]
     },
     "execution_count": 5,
     "metadata": {},
     "output_type": "execute_result"
    }
   ],
   "source": [
    "# 베스트 풀이\n",
    "#1\n",
    "def solution(n, words):\n",
    "    for p in range(1, len(words)):\n",
    "        if words[p][0] != words[p-1][-1] or words[p] in words[:p]: return [(p%n)+1, (p//n)+1]\n",
    "    else:\n",
    "        return [0,0]\n",
    "\n",
    "#2\n",
    "def solution(n, words):\n",
    "    answer = []\n",
    "    turn = 0\n",
    "    wordList = [words[0]]\n",
    "    # [실행] 버튼을 누르면 출력 값을 볼 수 있습니다.\n",
    "    for idx in range(1, len(words)):\n",
    "        if words[idx-1][-1] != words[idx][0]:\n",
    "            turn = idx\n",
    "            break\n",
    "        if words[idx] in wordList:\n",
    "            turn = idx\n",
    "            break\n",
    "        wordList.append(words[idx])\n",
    "    answer = [turn%n +1, turn//n + 1]\n",
    "    if turn == 0:\n",
    "        answer = [0, 0]\n",
    "    return answer"
   ]
  },
  {
   "cell_type": "code",
   "execution_count": null,
   "metadata": {},
   "outputs": [],
   "source": []
  }
 ],
 "metadata": {
  "kernelspec": {
   "display_name": "Python 3",
   "language": "python",
   "name": "python3"
  },
  "language_info": {
   "codemirror_mode": {
    "name": "ipython",
    "version": 3
   },
   "file_extension": ".py",
   "mimetype": "text/x-python",
   "name": "python",
   "nbconvert_exporter": "python",
   "pygments_lexer": "ipython3",
   "version": "3.8.5"
  }
 },
 "nbformat": 4,
 "nbformat_minor": 4
}
