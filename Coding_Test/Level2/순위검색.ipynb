{
 "cells": [
  {
   "cell_type": "code",
   "execution_count": 21,
   "metadata": {},
   "outputs": [],
   "source": [
    "import pandas as pd\n",
    "def solution(info, query):\n",
    "    data = ' '.join(info).split(\" \")\n",
    "    df = pd.DataFrame(columns = ['언어','직군','경력','소울푸드','점수'])\n",
    "    df['언어'] = data[0::5]\n",
    "    df['직군'] = data[1::5]\n",
    "    df['경력'] = data[2::5]\n",
    "    df['소울푸드'] = data[3::5]\n",
    "    df['점수'] = pd.to_numeric(data[4::5])\n",
    "    \n",
    "    #for i in range(len(query)):\n",
    "    #    query[i]\n",
    "    qu = ' '.join(query).replace(\" and \", \" \").split(\" \")\n",
    "    \n",
    "    answer = [0 for i in range(len(query))]\n",
    "    for k in range(len(query)):\n",
    "        dff = df.copy()\n",
    "        if qu[0::5][k] != '-':\n",
    "            dff = dff[dff['언어'] == qu[0::5][k]]\n",
    "        if qu[1::5][k] != '-':\n",
    "            dff = dff[dff['직군'] == qu[1::5][k]]\n",
    "        if qu[2::5][k] != '-':\n",
    "            dff = dff[dff['경력'] == qu[2::5][k]]\n",
    "        if qu[3::5][k] != '-':\n",
    "            dff = dff[dff['소울푸드'] == qu[3::5][k]]\n",
    "        if qu[4::5][k] != '-':\n",
    "            dff = dff[dff['점수'] >= int(qu[4::5][k])]\n",
    "        answer[k] = dff.shape[0]\n",
    "    return answer"
   ]
  },
  {
   "cell_type": "code",
   "execution_count": 22,
   "metadata": {},
   "outputs": [
    {
     "data": {
      "text/plain": [
       "[1, 1, 1, 1, 2, 4]"
      ]
     },
     "execution_count": 22,
     "metadata": {},
     "output_type": "execute_result"
    }
   ],
   "source": [
    "solution([\"java backend junior pizza 150\",\"python frontend senior chicken 210\",\"python frontend senior chicken 150\",\"cpp backend senior pizza 260\",\"java backend junior chicken 80\",\"python backend senior chicken 50\"], [\"java and backend and junior and pizza 100\",\"python and frontend and senior and chicken 200\",\"cpp and - and senior and pizza 250\",\"- and backend and senior and - 150\",\"- and - and - and chicken 100\",\"- and - and - and - 150\"])"
   ]
  },
  {
   "cell_type": "markdown",
   "metadata": {},
   "source": [
    "정확성은 모두 통과하였으나 효용성을 통과하지 못함"
   ]
  },
  {
   "cell_type": "code",
   "execution_count": null,
   "metadata": {},
   "outputs": [],
   "source": []
  }
 ],
 "metadata": {
  "kernelspec": {
   "display_name": "Python 3",
   "language": "python",
   "name": "python3"
  },
  "language_info": {
   "codemirror_mode": {
    "name": "ipython",
    "version": 3
   },
   "file_extension": ".py",
   "mimetype": "text/x-python",
   "name": "python",
   "nbconvert_exporter": "python",
   "pygments_lexer": "ipython3",
   "version": "3.8.5"
  }
 },
 "nbformat": 4,
 "nbformat_minor": 4
}
