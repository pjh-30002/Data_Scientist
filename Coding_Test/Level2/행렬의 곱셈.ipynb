{
 "cells": [
  {
   "cell_type": "code",
   "execution_count": 3,
   "metadata": {},
   "outputs": [
    {
     "data": {
      "text/plain": [
       "3"
      ]
     },
     "execution_count": 3,
     "metadata": {},
     "output_type": "execute_result"
    }
   ],
   "source": [
    "# 내풀이\n",
    "def solution(arr1, arr2):\n",
    "    answer = []\n",
    "\n",
    "    for i in range(len(arr1)):\n",
    "        l = []\n",
    "        for j in range(len(arr2[0])):\n",
    "            ex = 0\n",
    "            for k in range(len(arr2)):\n",
    "                ex += arr1[i][k] * arr2[k][j]\n",
    "            l.append(ex)\n",
    "        answer.append(l)\n",
    "                \n",
    "        \n",
    "    return answer"
   ]
  },
  {
   "cell_type": "code",
   "execution_count": 37,
   "metadata": {},
   "outputs": [
    {
     "name": "stdout",
     "output_type": "stream",
     "text": [
      "결과 : [[13, 16], [21, 26]]\n"
     ]
    }
   ],
   "source": [
    "def productMatrix(A, B):\n",
    "    return [[sum(a*b for a, b in zip(A_row,B_col)) for B_col in zip(*B)] for A_row in A]\n",
    "\n",
    "# 아래는 테스트로 출력해 보기 위한 코드입니다.\n",
    "a = [ [ 1, 2 ], [ 2, 3 ]];\n",
    "b = [[ 3, 4], [5, 6]];\n",
    "print(\"결과 : {}\".format(productMatrix(a,b)));"
   ]
  },
  {
   "cell_type": "code",
   "execution_count": 38,
   "metadata": {},
   "outputs": [
    {
     "name": "stdout",
     "output_type": "stream",
     "text": [
      "결과 : [[13, 16], [21, 26]]\n"
     ]
    }
   ],
   "source": [
    "import numpy as np\n",
    "def productMatrix(A, B):\n",
    "\n",
    "    return (np.matrix(A)*np.matrix(B)).tolist()\n",
    "\n",
    "# 아래는 테스트로 출력해 보기 위한 코드입니다.\n",
    "a = [ [ 1, 2 ], [ 2, 3 ]];\n",
    "b = [[ 3, 4], [5, 6]];\n",
    "print(\"결과 : {}\".format(productMatrix(a,b)));"
   ]
  },
  {
   "cell_type": "code",
   "execution_count": null,
   "metadata": {},
   "outputs": [],
   "source": []
  }
 ],
 "metadata": {
  "kernelspec": {
   "display_name": "Python 3",
   "language": "python",
   "name": "python3"
  },
  "language_info": {
   "codemirror_mode": {
    "name": "ipython",
    "version": 3
   },
   "file_extension": ".py",
   "mimetype": "text/x-python",
   "name": "python",
   "nbconvert_exporter": "python",
   "pygments_lexer": "ipython3",
   "version": "3.8.5"
  }
 },
 "nbformat": 4,
 "nbformat_minor": 4
}
